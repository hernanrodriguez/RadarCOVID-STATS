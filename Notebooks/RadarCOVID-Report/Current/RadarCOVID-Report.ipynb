{
 "cells": [
  {
   "cell_type": "markdown",
   "metadata": {
    "papermill": {
     "duration": 0.036508,
     "end_time": "2020-09-27T12:24:35.667222",
     "exception": false,
     "start_time": "2020-09-27T12:24:35.630714",
     "status": "completed"
    },
    "pycharm": {
     "name": "#%% md\n"
    },
    "tags": []
   },
   "source": [
    "# RadarCOVID-Report"
   ]
  },
  {
   "cell_type": "markdown",
   "metadata": {
    "collapsed": true,
    "papermill": {
     "duration": 0.033005,
     "end_time": "2020-09-27T12:24:35.731270",
     "exception": false,
     "start_time": "2020-09-27T12:24:35.698265",
     "status": "completed"
    },
    "pycharm": {
     "name": "#%% md\n"
    },
    "tags": []
   },
   "source": [
    "## Data Extraction"
   ]
  },
  {
   "cell_type": "code",
   "execution_count": 1,
   "metadata": {
    "execution": {
     "iopub.execute_input": "2020-09-27T12:24:35.801183Z",
     "iopub.status.busy": "2020-09-27T12:24:35.800613Z",
     "iopub.status.idle": "2020-09-27T12:24:40.470088Z",
     "shell.execute_reply": "2020-09-27T12:24:40.469454Z"
    },
    "papermill": {
     "duration": 4.707061,
     "end_time": "2020-09-27T12:24:40.470273",
     "exception": false,
     "start_time": "2020-09-27T12:24:35.763212",
     "status": "completed"
    },
    "pycharm": {
     "name": "#%%\n"
    },
    "tags": []
   },
   "outputs": [],
   "source": [
    "import datetime\n",
    "import json\n",
    "import logging\n",
    "import os\n",
    "import shutil\n",
    "import tempfile\n",
    "import textwrap\n",
    "import uuid\n",
    "\n",
    "import matplotlib.ticker\n",
    "import numpy as np\n",
    "import pandas as pd\n",
    "import seaborn as sns\n",
    "\n",
    "%matplotlib inline"
   ]
  },
  {
   "cell_type": "code",
   "execution_count": 2,
   "metadata": {
    "collapsed": false,
    "execution": {
     "iopub.execute_input": "2020-09-27T12:24:40.546497Z",
     "iopub.status.busy": "2020-09-27T12:24:40.545965Z",
     "iopub.status.idle": "2020-09-27T12:24:40.548258Z",
     "shell.execute_reply": "2020-09-27T12:24:40.548718Z"
    },
    "papermill": {
     "duration": 0.045265,
     "end_time": "2020-09-27T12:24:40.548868",
     "exception": false,
     "start_time": "2020-09-27T12:24:40.503603",
     "status": "completed"
    },
    "pycharm": {
     "name": "#%%\n"
    },
    "tags": []
   },
   "outputs": [],
   "source": [
    "current_working_directory = os.environ.get(\"PWD\")\n",
    "if current_working_directory:\n",
    "    os.chdir(current_working_directory)\n",
    "\n",
    "sns.set()\n",
    "matplotlib.rcParams[\"figure.figsize\"] = (15, 6)\n",
    "\n",
    "extraction_datetime = datetime.datetime.utcnow()\n",
    "extraction_date = extraction_datetime.strftime(\"%Y-%m-%d\")\n",
    "extraction_previous_datetime = extraction_datetime - datetime.timedelta(days=1)\n",
    "extraction_previous_date = extraction_previous_datetime.strftime(\"%Y-%m-%d\")\n",
    "extraction_date_with_hour = datetime.datetime.utcnow().strftime(\"%Y-%m-%d@%H\")"
   ]
  },
  {
   "cell_type": "markdown",
   "metadata": {
    "collapsed": false,
    "papermill": {
     "duration": 0.032623,
     "end_time": "2020-09-27T12:24:40.613453",
     "exception": false,
     "start_time": "2020-09-27T12:24:40.580830",
     "status": "completed"
    },
    "tags": []
   },
   "source": [
    "### Constants"
   ]
  },
  {
   "cell_type": "code",
   "execution_count": 3,
   "metadata": {
    "execution": {
     "iopub.execute_input": "2020-09-27T12:24:40.682635Z",
     "iopub.status.busy": "2020-09-27T12:24:40.682051Z",
     "iopub.status.idle": "2020-09-27T12:24:40.684889Z",
     "shell.execute_reply": "2020-09-27T12:24:40.684346Z"
    },
    "papermill": {
     "duration": 0.038249,
     "end_time": "2020-09-27T12:24:40.685014",
     "exception": false,
     "start_time": "2020-09-27T12:24:40.646765",
     "status": "completed"
    },
    "pycharm": {
     "name": "#%%\n"
    },
    "tags": []
   },
   "outputs": [],
   "source": [
    "spain_region_country_name = \"Spain\"\n",
    "spain_region_country_code = \"ES\"\n",
    "\n",
    "daily_summary_days = 7 * 3\n",
    "daily_plot_days = 7 * 2\n",
    "tek_dumps_load_limit = daily_summary_days + 1"
   ]
  },
  {
   "cell_type": "markdown",
   "metadata": {
    "collapsed": false,
    "papermill": {
     "duration": 0.031511,
     "end_time": "2020-09-27T12:24:40.749047",
     "exception": false,
     "start_time": "2020-09-27T12:24:40.717536",
     "status": "completed"
    },
    "pycharm": {
     "name": "#%% md\n"
    },
    "tags": []
   },
   "source": [
    "### COVID-19 Cases"
   ]
  },
  {
   "cell_type": "code",
   "execution_count": 4,
   "metadata": {
    "collapsed": false,
    "execution": {
     "iopub.execute_input": "2020-09-27T12:24:40.820793Z",
     "iopub.status.busy": "2020-09-27T12:24:40.820244Z",
     "iopub.status.idle": "2020-09-27T12:24:41.183710Z",
     "shell.execute_reply": "2020-09-27T12:24:41.184132Z"
    },
    "papermill": {
     "duration": 0.402545,
     "end_time": "2020-09-27T12:24:41.184286",
     "exception": false,
     "start_time": "2020-09-27T12:24:40.781741",
     "status": "completed"
    },
    "pycharm": {
     "name": "#%%\n"
    },
    "tags": []
   },
   "outputs": [
    {
     "data": {
      "text/html": [
       "<div>\n",
       "<style scoped>\n",
       "    .dataframe tbody tr th:only-of-type {\n",
       "        vertical-align: middle;\n",
       "    }\n",
       "\n",
       "    .dataframe tbody tr th {\n",
       "        vertical-align: top;\n",
       "    }\n",
       "\n",
       "    .dataframe thead th {\n",
       "        text-align: right;\n",
       "    }\n",
       "</style>\n",
       "<table border=\"1\" class=\"dataframe\">\n",
       "  <thead>\n",
       "    <tr style=\"text-align: right;\">\n",
       "      <th></th>\n",
       "      <th>Country_EN</th>\n",
       "      <th>Country_ES</th>\n",
       "      <th>Country_IT</th>\n",
       "      <th>Region</th>\n",
       "      <th>2020-01-23</th>\n",
       "      <th>2020-01-24</th>\n",
       "      <th>2020-01-25</th>\n",
       "      <th>2020-01-26</th>\n",
       "      <th>2020-01-27</th>\n",
       "      <th>2020-01-28</th>\n",
       "      <th>...</th>\n",
       "      <th>2020-09-17</th>\n",
       "      <th>2020-09-18</th>\n",
       "      <th>2020-09-19</th>\n",
       "      <th>2020-09-20</th>\n",
       "      <th>2020-09-21</th>\n",
       "      <th>2020-09-22</th>\n",
       "      <th>2020-09-23</th>\n",
       "      <th>2020-09-24</th>\n",
       "      <th>2020-09-25</th>\n",
       "      <th>2020-09-26</th>\n",
       "    </tr>\n",
       "  </thead>\n",
       "  <tbody>\n",
       "    <tr>\n",
       "      <th>218</th>\n",
       "      <td>Spain</td>\n",
       "      <td>España</td>\n",
       "      <td>Spagna</td>\n",
       "      <td>NaN</td>\n",
       "      <td>0.0</td>\n",
       "      <td>0.0</td>\n",
       "      <td>0.0</td>\n",
       "      <td>0.0</td>\n",
       "      <td>0.0</td>\n",
       "      <td>0.0</td>\n",
       "      <td>...</td>\n",
       "      <td>625651.0</td>\n",
       "      <td>640040.0</td>\n",
       "      <td>640040.0</td>\n",
       "      <td>640040.0</td>\n",
       "      <td>671468.0</td>\n",
       "      <td>682267.0</td>\n",
       "      <td>693556.0</td>\n",
       "      <td>704209.0</td>\n",
       "      <td>716481.0</td>\n",
       "      <td>716481.0</td>\n",
       "    </tr>\n",
       "  </tbody>\n",
       "</table>\n",
       "<p>1 rows × 252 columns</p>\n",
       "</div>"
      ],
      "text/plain": [
       "    Country_EN Country_ES Country_IT Region  2020-01-23  2020-01-24  \\\n",
       "218      Spain     España     Spagna    NaN         0.0         0.0   \n",
       "\n",
       "     2020-01-25  2020-01-26  2020-01-27  2020-01-28  ...  2020-09-17  \\\n",
       "218         0.0         0.0         0.0         0.0  ...    625651.0   \n",
       "\n",
       "     2020-09-18  2020-09-19  2020-09-20  2020-09-21  2020-09-22  2020-09-23  \\\n",
       "218    640040.0    640040.0    640040.0    671468.0    682267.0    693556.0   \n",
       "\n",
       "     2020-09-24  2020-09-25  2020-09-26  \n",
       "218    704209.0    716481.0    716481.0  \n",
       "\n",
       "[1 rows x 252 columns]"
      ]
     },
     "execution_count": 4,
     "metadata": {},
     "output_type": "execute_result"
    }
   ],
   "source": [
    "confirmed_df = pd.read_csv(\"https://covid19tracking.narrativa.com/csv/confirmed.csv\")\n",
    "\n",
    "radar_covid_countries = {spain_region_country_name}\n",
    "\n",
    "confirmed_df = confirmed_df[confirmed_df[\"Country_EN\"].isin(radar_covid_countries)]\n",
    "confirmed_df = confirmed_df[pd.isna(confirmed_df.Region)]\n",
    "confirmed_df.head()"
   ]
  },
  {
   "cell_type": "code",
   "execution_count": 5,
   "metadata": {
    "collapsed": false,
    "execution": {
     "iopub.execute_input": "2020-09-27T12:24:41.268314Z",
     "iopub.status.busy": "2020-09-27T12:24:41.267743Z",
     "iopub.status.idle": "2020-09-27T12:24:41.278707Z",
     "shell.execute_reply": "2020-09-27T12:24:41.279219Z"
    },
    "papermill": {
     "duration": 0.060534,
     "end_time": "2020-09-27T12:24:41.279379",
     "exception": false,
     "start_time": "2020-09-27T12:24:41.218845",
     "status": "completed"
    },
    "pycharm": {
     "name": "#%%\n"
    },
    "tags": []
   },
   "outputs": [
    {
     "data": {
      "text/html": [
       "<div>\n",
       "<style scoped>\n",
       "    .dataframe tbody tr th:only-of-type {\n",
       "        vertical-align: middle;\n",
       "    }\n",
       "\n",
       "    .dataframe tbody tr th {\n",
       "        vertical-align: top;\n",
       "    }\n",
       "\n",
       "    .dataframe thead th {\n",
       "        text-align: right;\n",
       "    }\n",
       "</style>\n",
       "<table border=\"1\" class=\"dataframe\">\n",
       "  <thead>\n",
       "    <tr style=\"text-align: right;\">\n",
       "      <th></th>\n",
       "      <th>2020-01-23</th>\n",
       "      <th>2020-01-24</th>\n",
       "      <th>2020-01-25</th>\n",
       "      <th>2020-01-26</th>\n",
       "      <th>2020-01-27</th>\n",
       "      <th>2020-01-28</th>\n",
       "      <th>2020-01-29</th>\n",
       "      <th>2020-01-30</th>\n",
       "      <th>2020-01-31</th>\n",
       "      <th>2020-02-01</th>\n",
       "      <th>...</th>\n",
       "      <th>2020-09-17</th>\n",
       "      <th>2020-09-18</th>\n",
       "      <th>2020-09-19</th>\n",
       "      <th>2020-09-20</th>\n",
       "      <th>2020-09-21</th>\n",
       "      <th>2020-09-22</th>\n",
       "      <th>2020-09-23</th>\n",
       "      <th>2020-09-24</th>\n",
       "      <th>2020-09-25</th>\n",
       "      <th>2020-09-26</th>\n",
       "    </tr>\n",
       "  </thead>\n",
       "  <tbody>\n",
       "    <tr>\n",
       "      <th>218</th>\n",
       "      <td>0.0</td>\n",
       "      <td>0.0</td>\n",
       "      <td>0.0</td>\n",
       "      <td>0.0</td>\n",
       "      <td>0.0</td>\n",
       "      <td>0.0</td>\n",
       "      <td>0.0</td>\n",
       "      <td>0.0</td>\n",
       "      <td>0.0</td>\n",
       "      <td>1.0</td>\n",
       "      <td>...</td>\n",
       "      <td>625651.0</td>\n",
       "      <td>640040.0</td>\n",
       "      <td>640040.0</td>\n",
       "      <td>640040.0</td>\n",
       "      <td>671468.0</td>\n",
       "      <td>682267.0</td>\n",
       "      <td>693556.0</td>\n",
       "      <td>704209.0</td>\n",
       "      <td>716481.0</td>\n",
       "      <td>716481.0</td>\n",
       "    </tr>\n",
       "  </tbody>\n",
       "</table>\n",
       "<p>1 rows × 248 columns</p>\n",
       "</div>"
      ],
      "text/plain": [
       "     2020-01-23  2020-01-24  2020-01-25  2020-01-26  2020-01-27  2020-01-28  \\\n",
       "218         0.0         0.0         0.0         0.0         0.0         0.0   \n",
       "\n",
       "     2020-01-29  2020-01-30  2020-01-31  2020-02-01  ...  2020-09-17  \\\n",
       "218         0.0         0.0         0.0         1.0  ...    625651.0   \n",
       "\n",
       "     2020-09-18  2020-09-19  2020-09-20  2020-09-21  2020-09-22  2020-09-23  \\\n",
       "218    640040.0    640040.0    640040.0    671468.0    682267.0    693556.0   \n",
       "\n",
       "     2020-09-24  2020-09-25  2020-09-26  \n",
       "218    704209.0    716481.0    716481.0  \n",
       "\n",
       "[1 rows x 248 columns]"
      ]
     },
     "execution_count": 5,
     "metadata": {},
     "output_type": "execute_result"
    }
   ],
   "source": [
    "confirmed_country_columns = list(filter(lambda x: x.startswith(\"Country_\"), confirmed_df.columns))\n",
    "confirmed_regional_columns = confirmed_country_columns + [\"Region\"]\n",
    "confirmed_df.drop(columns=confirmed_regional_columns, inplace=True)\n",
    "confirmed_df.head()"
   ]
  },
  {
   "cell_type": "code",
   "execution_count": 6,
   "metadata": {
    "collapsed": false,
    "execution": {
     "iopub.execute_input": "2020-09-27T12:24:41.354187Z",
     "iopub.status.busy": "2020-09-27T12:24:41.353420Z",
     "iopub.status.idle": "2020-09-27T12:24:41.358106Z",
     "shell.execute_reply": "2020-09-27T12:24:41.357660Z"
    },
    "papermill": {
     "duration": 0.04578,
     "end_time": "2020-09-27T12:24:41.358236",
     "exception": false,
     "start_time": "2020-09-27T12:24:41.312456",
     "status": "completed"
    },
    "pycharm": {
     "name": "#%%\n"
    },
    "tags": []
   },
   "outputs": [
    {
     "data": {
      "text/html": [
       "<div>\n",
       "<style scoped>\n",
       "    .dataframe tbody tr th:only-of-type {\n",
       "        vertical-align: middle;\n",
       "    }\n",
       "\n",
       "    .dataframe tbody tr th {\n",
       "        vertical-align: top;\n",
       "    }\n",
       "\n",
       "    .dataframe thead th {\n",
       "        text-align: right;\n",
       "    }\n",
       "</style>\n",
       "<table border=\"1\" class=\"dataframe\">\n",
       "  <thead>\n",
       "    <tr style=\"text-align: right;\">\n",
       "      <th></th>\n",
       "      <th>0</th>\n",
       "    </tr>\n",
       "  </thead>\n",
       "  <tbody>\n",
       "    <tr>\n",
       "      <th>2020-09-22</th>\n",
       "      <td>682267.0</td>\n",
       "    </tr>\n",
       "    <tr>\n",
       "      <th>2020-09-23</th>\n",
       "      <td>693556.0</td>\n",
       "    </tr>\n",
       "    <tr>\n",
       "      <th>2020-09-24</th>\n",
       "      <td>704209.0</td>\n",
       "    </tr>\n",
       "    <tr>\n",
       "      <th>2020-09-25</th>\n",
       "      <td>716481.0</td>\n",
       "    </tr>\n",
       "    <tr>\n",
       "      <th>2020-09-26</th>\n",
       "      <td>716481.0</td>\n",
       "    </tr>\n",
       "  </tbody>\n",
       "</table>\n",
       "</div>"
      ],
      "text/plain": [
       "                   0\n",
       "2020-09-22  682267.0\n",
       "2020-09-23  693556.0\n",
       "2020-09-24  704209.0\n",
       "2020-09-25  716481.0\n",
       "2020-09-26  716481.0"
      ]
     },
     "execution_count": 6,
     "metadata": {},
     "output_type": "execute_result"
    }
   ],
   "source": [
    "confirmed_df = confirmed_df.sum().to_frame()\n",
    "confirmed_df.tail()"
   ]
  },
  {
   "cell_type": "code",
   "execution_count": 7,
   "metadata": {
    "collapsed": false,
    "execution": {
     "iopub.execute_input": "2020-09-27T12:24:41.443476Z",
     "iopub.status.busy": "2020-09-27T12:24:41.442894Z",
     "iopub.status.idle": "2020-09-27T12:24:41.445053Z",
     "shell.execute_reply": "2020-09-27T12:24:41.445581Z"
    },
    "papermill": {
     "duration": 0.054248,
     "end_time": "2020-09-27T12:24:41.445741",
     "exception": false,
     "start_time": "2020-09-27T12:24:41.391493",
     "status": "completed"
    },
    "pycharm": {
     "name": "#%%\n"
    },
    "tags": []
   },
   "outputs": [
    {
     "data": {
      "text/html": [
       "<div>\n",
       "<style scoped>\n",
       "    .dataframe tbody tr th:only-of-type {\n",
       "        vertical-align: middle;\n",
       "    }\n",
       "\n",
       "    .dataframe tbody tr th {\n",
       "        vertical-align: top;\n",
       "    }\n",
       "\n",
       "    .dataframe thead th {\n",
       "        text-align: right;\n",
       "    }\n",
       "</style>\n",
       "<table border=\"1\" class=\"dataframe\">\n",
       "  <thead>\n",
       "    <tr style=\"text-align: right;\">\n",
       "      <th></th>\n",
       "      <th>sample_date_string</th>\n",
       "      <th>cumulative_cases</th>\n",
       "      <th>new_cases</th>\n",
       "      <th>covid_cases</th>\n",
       "    </tr>\n",
       "  </thead>\n",
       "  <tbody>\n",
       "    <tr>\n",
       "      <th>243</th>\n",
       "      <td>2020-09-22</td>\n",
       "      <td>682267.0</td>\n",
       "      <td>10799.0</td>\n",
       "      <td>11300.0</td>\n",
       "    </tr>\n",
       "    <tr>\n",
       "      <th>244</th>\n",
       "      <td>2020-09-23</td>\n",
       "      <td>693556.0</td>\n",
       "      <td>11289.0</td>\n",
       "      <td>11314.0</td>\n",
       "    </tr>\n",
       "    <tr>\n",
       "      <th>245</th>\n",
       "      <td>2020-09-24</td>\n",
       "      <td>704209.0</td>\n",
       "      <td>10653.0</td>\n",
       "      <td>11223.0</td>\n",
       "    </tr>\n",
       "    <tr>\n",
       "      <th>246</th>\n",
       "      <td>2020-09-25</td>\n",
       "      <td>716481.0</td>\n",
       "      <td>12272.0</td>\n",
       "      <td>10920.0</td>\n",
       "    </tr>\n",
       "    <tr>\n",
       "      <th>247</th>\n",
       "      <td>2020-09-26</td>\n",
       "      <td>716481.0</td>\n",
       "      <td>0.0</td>\n",
       "      <td>10920.0</td>\n",
       "    </tr>\n",
       "  </tbody>\n",
       "</table>\n",
       "</div>"
      ],
      "text/plain": [
       "    sample_date_string  cumulative_cases  new_cases  covid_cases\n",
       "243         2020-09-22          682267.0    10799.0      11300.0\n",
       "244         2020-09-23          693556.0    11289.0      11314.0\n",
       "245         2020-09-24          704209.0    10653.0      11223.0\n",
       "246         2020-09-25          716481.0    12272.0      10920.0\n",
       "247         2020-09-26          716481.0        0.0      10920.0"
      ]
     },
     "execution_count": 7,
     "metadata": {},
     "output_type": "execute_result"
    }
   ],
   "source": [
    "confirmed_df.reset_index(inplace=True)\n",
    "confirmed_df.columns = [\"sample_date_string\", \"cumulative_cases\"]\n",
    "confirmed_df.sort_values(\"sample_date_string\", inplace=True)\n",
    "confirmed_df[\"new_cases\"] = confirmed_df.cumulative_cases.diff()\n",
    "confirmed_df[\"covid_cases\"] = confirmed_df.new_cases.rolling(7).mean().round()\n",
    "confirmed_df.tail()"
   ]
  },
  {
   "cell_type": "code",
   "execution_count": 8,
   "metadata": {
    "execution": {
     "iopub.execute_input": "2020-09-27T12:24:41.518197Z",
     "iopub.status.busy": "2020-09-27T12:24:41.517637Z",
     "iopub.status.idle": "2020-09-27T12:24:41.534710Z",
     "shell.execute_reply": "2020-09-27T12:24:41.535220Z"
    },
    "papermill": {
     "duration": 0.054925,
     "end_time": "2020-09-27T12:24:41.535379",
     "exception": false,
     "start_time": "2020-09-27T12:24:41.480454",
     "status": "completed"
    },
    "pycharm": {
     "name": "#%%\n"
    },
    "tags": []
   },
   "outputs": [
    {
     "data": {
      "text/html": [
       "<div>\n",
       "<style scoped>\n",
       "    .dataframe tbody tr th:only-of-type {\n",
       "        vertical-align: middle;\n",
       "    }\n",
       "\n",
       "    .dataframe tbody tr th {\n",
       "        vertical-align: top;\n",
       "    }\n",
       "\n",
       "    .dataframe thead th {\n",
       "        text-align: right;\n",
       "    }\n",
       "</style>\n",
       "<table border=\"1\" class=\"dataframe\">\n",
       "  <thead>\n",
       "    <tr style=\"text-align: right;\">\n",
       "      <th></th>\n",
       "      <th>sample_date_string</th>\n",
       "      <th>cumulative_cases</th>\n",
       "      <th>new_cases</th>\n",
       "      <th>covid_cases</th>\n",
       "    </tr>\n",
       "  </thead>\n",
       "  <tbody>\n",
       "    <tr>\n",
       "      <th>244</th>\n",
       "      <td>2020-09-23</td>\n",
       "      <td>693556.0</td>\n",
       "      <td>11289.0</td>\n",
       "      <td>11314</td>\n",
       "    </tr>\n",
       "    <tr>\n",
       "      <th>245</th>\n",
       "      <td>2020-09-24</td>\n",
       "      <td>704209.0</td>\n",
       "      <td>10653.0</td>\n",
       "      <td>11223</td>\n",
       "    </tr>\n",
       "    <tr>\n",
       "      <th>246</th>\n",
       "      <td>2020-09-25</td>\n",
       "      <td>716481.0</td>\n",
       "      <td>12272.0</td>\n",
       "      <td>10920</td>\n",
       "    </tr>\n",
       "    <tr>\n",
       "      <th>247</th>\n",
       "      <td>2020-09-26</td>\n",
       "      <td>716481.0</td>\n",
       "      <td>0.0</td>\n",
       "      <td>10920</td>\n",
       "    </tr>\n",
       "    <tr>\n",
       "      <th>247</th>\n",
       "      <td>2020-09-27</td>\n",
       "      <td>727401.0</td>\n",
       "      <td>10920.0</td>\n",
       "      <td>10920</td>\n",
       "    </tr>\n",
       "  </tbody>\n",
       "</table>\n",
       "</div>"
      ],
      "text/plain": [
       "    sample_date_string  cumulative_cases  new_cases  covid_cases\n",
       "244         2020-09-23          693556.0    11289.0        11314\n",
       "245         2020-09-24          704209.0    10653.0        11223\n",
       "246         2020-09-25          716481.0    12272.0        10920\n",
       "247         2020-09-26          716481.0        0.0        10920\n",
       "247         2020-09-27          727401.0    10920.0        10920"
      ]
     },
     "execution_count": 8,
     "metadata": {},
     "output_type": "execute_result"
    }
   ],
   "source": [
    "extraction_date_confirmed_df = \\\n",
    "    confirmed_df[confirmed_df.sample_date_string == extraction_date]\n",
    "extraction_previous_date_confirmed_df = \\\n",
    "    confirmed_df[confirmed_df.sample_date_string == extraction_previous_date].copy()\n",
    "\n",
    "if extraction_date_confirmed_df.empty and \\\n",
    "    not extraction_previous_date_confirmed_df.empty:\n",
    "        extraction_previous_date_confirmed_df[\"sample_date_string\"] = extraction_date\n",
    "        extraction_previous_date_confirmed_df[\"new_cases\"] = \\\n",
    "            extraction_previous_date_confirmed_df.covid_cases\n",
    "        extraction_previous_date_confirmed_df[\"cumulative_cases\"] = \\\n",
    "            extraction_previous_date_confirmed_df.new_cases + \\\n",
    "            extraction_previous_date_confirmed_df.cumulative_cases\n",
    "        confirmed_df = confirmed_df.append(extraction_previous_date_confirmed_df)\n",
    "\n",
    "confirmed_df[\"covid_cases\"] = confirmed_df.covid_cases.fillna(0).astype(int)\n",
    "confirmed_df.tail()"
   ]
  },
  {
   "cell_type": "code",
   "execution_count": 9,
   "metadata": {
    "execution": {
     "iopub.execute_input": "2020-09-27T12:24:41.613837Z",
     "iopub.status.busy": "2020-09-27T12:24:41.613271Z",
     "iopub.status.idle": "2020-09-27T12:24:41.805224Z",
     "shell.execute_reply": "2020-09-27T12:24:41.804443Z"
    },
    "papermill": {
     "duration": 0.23601,
     "end_time": "2020-09-27T12:24:41.805354",
     "exception": false,
     "start_time": "2020-09-27T12:24:41.569344",
     "status": "completed"
    },
    "pycharm": {
     "name": "#%%\n"
    },
    "tags": []
   },
   "outputs": [
    {
     "data": {
      "text/plain": [
       "<matplotlib.axes._subplots.AxesSubplot at 0x7f047d351670>"
      ]
     },
     "execution_count": 9,
     "metadata": {},
     "output_type": "execute_result"
    },
    {
     "data": {
      "image/png": "[encoded data removed]",
      "text/plain": [
       "<Figure size 1080x432 with 1 Axes>"
      ]
     },
     "metadata": {},
     "output_type": "display_data"
    }
   ],
   "source": [
    "confirmed_df[[\"new_cases\", \"covid_cases\"]].plot()"
   ]
  },
  {
   "cell_type": "markdown",
   "metadata": {
    "execution": {
     "iopub.execute_input": "2020-08-30T22:30:16.351238Z",
     "iopub.status.busy": "2020-08-30T22:30:16.344579Z",
     "iopub.status.idle": "2020-08-30T22:30:16.354285Z",
     "shell.execute_reply": "2020-08-30T22:30:16.353641Z"
    },
    "papermill": {
     "duration": 0.036236,
     "end_time": "2020-09-27T12:24:41.879995",
     "exception": false,
     "start_time": "2020-09-27T12:24:41.843759",
     "status": "completed"
    },
    "pycharm": {
     "name": "#%% md\n"
    },
    "tags": []
   },
   "source": [
    "### Extract API TEKs"
   ]
  },
  {
   "cell_type": "code",
   "execution_count": 10,
   "metadata": {
    "execution": {
     "iopub.execute_input": "2020-09-27T12:24:41.958830Z",
     "iopub.status.busy": "2020-09-27T12:24:41.958246Z",
     "iopub.status.idle": "2020-09-27T12:24:43.985355Z",
     "shell.execute_reply": "2020-09-27T12:24:43.985749Z"
    },
    "papermill": {
     "duration": 2.06847,
     "end_time": "2020-09-27T12:24:43.985911",
     "exception": false,
     "start_time": "2020-09-27T12:24:41.917441",
     "status": "completed"
    },
    "pycharm": {
     "name": "#%%\n"
    },
    "tags": []
   },
   "outputs": [
    {
     "data": {
      "text/html": [
       "<div>\n",
       "<style scoped>\n",
       "    .dataframe tbody tr th:only-of-type {\n",
       "        vertical-align: middle;\n",
       "    }\n",
       "\n",
       "    .dataframe tbody tr th {\n",
       "        vertical-align: top;\n",
       "    }\n",
       "\n",
       "    .dataframe thead th {\n",
       "        text-align: right;\n",
       "    }\n",
       "</style>\n",
       "<table border=\"1\" class=\"dataframe\">\n",
       "  <thead>\n",
       "    <tr style=\"text-align: right;\">\n",
       "      <th></th>\n",
       "      <th>sample_date_string</th>\n",
       "      <th>source_url</th>\n",
       "      <th>region</th>\n",
       "      <th>key_data</th>\n",
       "    </tr>\n",
       "  </thead>\n",
       "  <tbody>\n",
       "    <tr>\n",
       "      <th>0</th>\n",
       "      <td>2020-09-27</td>\n",
       "      <td>https://radarcovid.covid19.gob.es/dp3t/v1/gaen...</td>\n",
       "      <td>ES</td>\n",
       "      <td>4df613fa-28ec-a6a1-229f-4836e30577de</td>\n",
       "    </tr>\n",
       "    <tr>\n",
       "      <th>1</th>\n",
       "      <td>2020-09-27</td>\n",
       "      <td>https://radarcovid.covid19.gob.es/dp3t/v1/gaen...</td>\n",
       "      <td>ES</td>\n",
       "      <td>e9f3c0c9-1267-9aa7-ca4e-408ffe2fe890</td>\n",
       "    </tr>\n",
       "    <tr>\n",
       "      <th>2</th>\n",
       "      <td>2020-09-27</td>\n",
       "      <td>https://radarcovid.covid19.gob.es/dp3t/v1/gaen...</td>\n",
       "      <td>ES</td>\n",
       "      <td>5a1ae391-4c86-598a-5cc1-bde6555cb32a</td>\n",
       "    </tr>\n",
       "    <tr>\n",
       "      <th>3</th>\n",
       "      <td>2020-09-27</td>\n",
       "      <td>https://radarcovid.covid19.gob.es/dp3t/v1/gaen...</td>\n",
       "      <td>ES</td>\n",
       "      <td>04383166-e2d9-bdd6-dbdc-5bb9a0e6b8de</td>\n",
       "    </tr>\n",
       "    <tr>\n",
       "      <th>4</th>\n",
       "      <td>2020-09-27</td>\n",
       "      <td>https://radarcovid.covid19.gob.es/dp3t/v1/gaen...</td>\n",
       "      <td>ES</td>\n",
       "      <td>bc96e053-18cd-f0aa-04e6-661047c201ec</td>\n",
       "    </tr>\n",
       "  </tbody>\n",
       "</table>\n",
       "</div>"
      ],
      "text/plain": [
       "  sample_date_string                                         source_url  \\\n",
       "0         2020-09-27  https://radarcovid.covid19.gob.es/dp3t/v1/gaen...   \n",
       "1         2020-09-27  https://radarcovid.covid19.gob.es/dp3t/v1/gaen...   \n",
       "2         2020-09-27  https://radarcovid.covid19.gob.es/dp3t/v1/gaen...   \n",
       "3         2020-09-27  https://radarcovid.covid19.gob.es/dp3t/v1/gaen...   \n",
       "4         2020-09-27  https://radarcovid.covid19.gob.es/dp3t/v1/gaen...   \n",
       "\n",
       "  region                              key_data  \n",
       "0     ES  4df613fa-28ec-a6a1-229f-4836e30577de  \n",
       "1     ES  e9f3c0c9-1267-9aa7-ca4e-408ffe2fe890  \n",
       "2     ES  5a1ae391-4c86-598a-5cc1-bde6555cb32a  \n",
       "3     ES  04383166-e2d9-bdd6-dbdc-5bb9a0e6b8de  \n",
       "4     ES  bc96e053-18cd-f0aa-04e6-661047c201ec  "
      ]
     },
     "execution_count": 10,
     "metadata": {},
     "output_type": "execute_result"
    }
   ],
   "source": [
    "from Modules.RadarCOVID import radar_covid\n",
    "\n",
    "raw_zip_paths = [\n",
    "    \"Data/TEKs/Raw/Current/RadarCOVID-TEKs-{sample_date}.zip\",\n",
    "    f\"Data/TEKs/Raw/Daily/{extraction_date}/RadarCOVID-TEKs-{{sample_date}}.zip\",\n",
    "    f\"Data/TEKs/Raw/Hourly/{extraction_date_with_hour}/RadarCOVID-TEKs-{{sample_date}}.zip\",\n",
    "]\n",
    "\n",
    "multi_region_exposure_keys_df = \\\n",
    "    radar_covid.download_last_radar_covid_exposure_keys(\n",
    "        days=14, save_raw_zip_path=raw_zip_paths)\n",
    "multi_region_exposure_keys_df = multi_region_exposure_keys_df[[\n",
    "    \"sample_date_string\", \"source_url\", \"region\", \"key_data\"]]\n",
    "multi_region_exposure_keys_df.head()"
   ]
  },
  {
   "cell_type": "code",
   "execution_count": 11,
   "metadata": {
    "collapsed": false,
    "execution": {
     "iopub.execute_input": "2020-09-27T12:24:44.083958Z",
     "iopub.status.busy": "2020-09-27T12:24:44.083293Z",
     "iopub.status.idle": "2020-09-27T12:24:44.093941Z",
     "shell.execute_reply": "2020-09-27T12:24:44.093464Z"
    },
    "papermill": {
     "duration": 0.070708,
     "end_time": "2020-09-27T12:24:44.094070",
     "exception": false,
     "start_time": "2020-09-27T12:24:44.023362",
     "status": "completed"
    },
    "pycharm": {
     "name": "#%%\n"
    },
    "tags": []
   },
   "outputs": [
    {
     "data": {
      "text/plain": [
       "['ES']"
      ]
     },
     "execution_count": 11,
     "metadata": {},
     "output_type": "execute_result"
    }
   ],
   "source": [
    "active_regions = \\\n",
    "    multi_region_exposure_keys_df.groupby(\"region\").key_data.nunique().sort_values().index.unique().tolist()\n",
    "active_regions"
   ]
  },
  {
   "cell_type": "code",
   "execution_count": 12,
   "metadata": {
    "collapsed": false,
    "execution": {
     "iopub.execute_input": "2020-09-27T12:24:44.184998Z",
     "iopub.status.busy": "2020-09-27T12:24:44.184471Z",
     "iopub.status.idle": "2020-09-27T12:24:44.211010Z",
     "shell.execute_reply": "2020-09-27T12:24:44.211460Z"
    },
    "papermill": {
     "duration": 0.079519,
     "end_time": "2020-09-27T12:24:44.211622",
     "exception": false,
     "start_time": "2020-09-27T12:24:44.132103",
     "status": "completed"
    },
    "pycharm": {
     "name": "#%%\n"
    },
    "tags": []
   },
   "outputs": [
    {
     "data": {
      "text/html": [
       "<div>\n",
       "<style scoped>\n",
       "    .dataframe tbody tr th:only-of-type {\n",
       "        vertical-align: middle;\n",
       "    }\n",
       "\n",
       "    .dataframe tbody tr th {\n",
       "        vertical-align: top;\n",
       "    }\n",
       "\n",
       "    .dataframe thead tr th {\n",
       "        text-align: left;\n",
       "    }\n",
       "\n",
       "    .dataframe thead tr:last-of-type th {\n",
       "        text-align: right;\n",
       "    }\n",
       "</style>\n",
       "<table border=\"1\" class=\"dataframe\">\n",
       "  <thead>\n",
       "    <tr>\n",
       "      <th></th>\n",
       "      <th>shared_teks_by_generation_date</th>\n",
       "    </tr>\n",
       "    <tr>\n",
       "      <th>region</th>\n",
       "      <th>ES</th>\n",
       "    </tr>\n",
       "    <tr>\n",
       "      <th>sample_date_string</th>\n",
       "      <th></th>\n",
       "    </tr>\n",
       "  </thead>\n",
       "  <tbody>\n",
       "    <tr>\n",
       "      <th>2020-09-27</th>\n",
       "      <td>46</td>\n",
       "    </tr>\n",
       "    <tr>\n",
       "      <th>2020-09-26</th>\n",
       "      <td>155</td>\n",
       "    </tr>\n",
       "    <tr>\n",
       "      <th>2020-09-25</th>\n",
       "      <td>162</td>\n",
       "    </tr>\n",
       "    <tr>\n",
       "      <th>2020-09-24</th>\n",
       "      <td>201</td>\n",
       "    </tr>\n",
       "    <tr>\n",
       "      <th>2020-09-23</th>\n",
       "      <td>241</td>\n",
       "    </tr>\n",
       "  </tbody>\n",
       "</table>\n",
       "</div>"
      ],
      "text/plain": [
       "                   shared_teks_by_generation_date\n",
       "region                                         ES\n",
       "sample_date_string                               \n",
       "2020-09-27                                     46\n",
       "2020-09-26                                    155\n",
       "2020-09-25                                    162\n",
       "2020-09-24                                    201\n",
       "2020-09-23                                    241"
      ]
     },
     "execution_count": 12,
     "metadata": {},
     "output_type": "execute_result"
    }
   ],
   "source": [
    "multi_region_summary_df = multi_region_exposure_keys_df.groupby(\n",
    "    [\"sample_date_string\", \"region\"]).key_data.nunique().reset_index() \\\n",
    "    .pivot(index=\"sample_date_string\", columns=\"region\") \\\n",
    "    .sort_index(ascending=False)\n",
    "multi_region_summary_df.rename(columns={\"key_data\": \"shared_teks_by_generation_date\"}, inplace=True)\n",
    "multi_region_summary_df.head()"
   ]
  },
  {
   "cell_type": "code",
   "execution_count": 13,
   "metadata": {
    "collapsed": false,
    "execution": {
     "iopub.execute_input": "2020-09-27T12:24:44.302271Z",
     "iopub.status.busy": "2020-09-27T12:24:44.301687Z",
     "iopub.status.idle": "2020-09-27T12:24:44.304762Z",
     "shell.execute_reply": "2020-09-27T12:24:44.304317Z"
    },
    "papermill": {
     "duration": 0.054642,
     "end_time": "2020-09-27T12:24:44.304893",
     "exception": false,
     "start_time": "2020-09-27T12:24:44.250251",
     "status": "completed"
    },
    "pycharm": {
     "name": "#%%\n"
    },
    "tags": []
   },
   "outputs": [
    {
     "data": {
      "text/plain": [
       "[]"
      ]
     },
     "execution_count": 13,
     "metadata": {},
     "output_type": "execute_result"
    }
   ],
   "source": [
    "multi_region_without_spain_exposure_keys_df = \\\n",
    "    multi_region_exposure_keys_df[multi_region_exposure_keys_df.region != spain_region_country_code]\n",
    "active_regions_excluding_spain = \\\n",
    "    multi_region_without_spain_exposure_keys_df.groupby(\"region\").key_data.nunique().sort_values().index.unique().tolist()\n",
    "active_regions_excluding_spain"
   ]
  },
  {
   "cell_type": "code",
   "execution_count": 14,
   "metadata": {
    "execution": {
     "iopub.execute_input": "2020-09-27T12:24:44.388488Z",
     "iopub.status.busy": "2020-09-27T12:24:44.385710Z",
     "iopub.status.idle": "2020-09-27T12:24:44.408408Z",
     "shell.execute_reply": "2020-09-27T12:24:44.409062Z"
    },
    "papermill": {
     "duration": 0.066748,
     "end_time": "2020-09-27T12:24:44.409211",
     "exception": false,
     "start_time": "2020-09-27T12:24:44.342463",
     "status": "completed"
    },
    "scrolled": false,
    "tags": []
   },
   "outputs": [
    {
     "data": {
      "text/html": [
       "<div>\n",
       "<style scoped>\n",
       "    .dataframe tbody tr th:only-of-type {\n",
       "        vertical-align: middle;\n",
       "    }\n",
       "\n",
       "    .dataframe tbody tr th {\n",
       "        vertical-align: top;\n",
       "    }\n",
       "\n",
       "    .dataframe thead th {\n",
       "        text-align: right;\n",
       "    }\n",
       "</style>\n",
       "<table border=\"1\" class=\"dataframe\">\n",
       "  <thead>\n",
       "    <tr style=\"text-align: right;\">\n",
       "      <th></th>\n",
       "      <th>shared_teks_by_generation_date</th>\n",
       "    </tr>\n",
       "    <tr>\n",
       "      <th>sample_date_string</th>\n",
       "      <th></th>\n",
       "    </tr>\n",
       "  </thead>\n",
       "  <tbody>\n",
       "    <tr>\n",
       "      <th>2020-09-27</th>\n",
       "      <td>46</td>\n",
       "    </tr>\n",
       "    <tr>\n",
       "      <th>2020-09-26</th>\n",
       "      <td>155</td>\n",
       "    </tr>\n",
       "    <tr>\n",
       "      <th>2020-09-25</th>\n",
       "      <td>162</td>\n",
       "    </tr>\n",
       "    <tr>\n",
       "      <th>2020-09-24</th>\n",
       "      <td>201</td>\n",
       "    </tr>\n",
       "    <tr>\n",
       "      <th>2020-09-23</th>\n",
       "      <td>241</td>\n",
       "    </tr>\n",
       "    <tr>\n",
       "      <th>2020-09-22</th>\n",
       "      <td>255</td>\n",
       "    </tr>\n",
       "    <tr>\n",
       "      <th>2020-09-21</th>\n",
       "      <td>268</td>\n",
       "    </tr>\n",
       "    <tr>\n",
       "      <th>2020-09-20</th>\n",
       "      <td>218</td>\n",
       "    </tr>\n",
       "    <tr>\n",
       "      <th>2020-09-19</th>\n",
       "      <td>203</td>\n",
       "    </tr>\n",
       "    <tr>\n",
       "      <th>2020-09-18</th>\n",
       "      <td>165</td>\n",
       "    </tr>\n",
       "    <tr>\n",
       "      <th>2020-09-17</th>\n",
       "      <td>139</td>\n",
       "    </tr>\n",
       "    <tr>\n",
       "      <th>2020-09-16</th>\n",
       "      <td>119</td>\n",
       "    </tr>\n",
       "    <tr>\n",
       "      <th>2020-09-15</th>\n",
       "      <td>82</td>\n",
       "    </tr>\n",
       "    <tr>\n",
       "      <th>2020-09-14</th>\n",
       "      <td>73</td>\n",
       "    </tr>\n",
       "  </tbody>\n",
       "</table>\n",
       "</div>"
      ],
      "text/plain": [
       "                    shared_teks_by_generation_date\n",
       "sample_date_string                                \n",
       "2020-09-27                                      46\n",
       "2020-09-26                                     155\n",
       "2020-09-25                                     162\n",
       "2020-09-24                                     201\n",
       "2020-09-23                                     241\n",
       "2020-09-22                                     255\n",
       "2020-09-21                                     268\n",
       "2020-09-20                                     218\n",
       "2020-09-19                                     203\n",
       "2020-09-18                                     165\n",
       "2020-09-17                                     139\n",
       "2020-09-16                                     119\n",
       "2020-09-15                                      82\n",
       "2020-09-14                                      73"
      ]
     },
     "execution_count": 14,
     "metadata": {},
     "output_type": "execute_result"
    }
   ],
   "source": [
    "exposure_keys_summary_df = multi_region_exposure_keys_df[\n",
    "    multi_region_exposure_keys_df.region == spain_region_country_code]\n",
    "exposure_keys_summary_df.drop(columns=[\"region\"], inplace=True)\n",
    "exposure_keys_summary_df = \\\n",
    "    exposure_keys_summary_df.groupby([\"sample_date_string\"]).key_data.nunique().to_frame()\n",
    "exposure_keys_summary_df = \\\n",
    "    exposure_keys_summary_df.reset_index().set_index(\"sample_date_string\")\n",
    "exposure_keys_summary_df.sort_index(ascending=False, inplace=True)\n",
    "exposure_keys_summary_df.rename(columns={\"key_data\": \"shared_teks_by_generation_date\"}, inplace=True)\n",
    "exposure_keys_summary_df"
   ]
  },
  {
   "cell_type": "markdown",
   "metadata": {
    "papermill": {
     "duration": 0.038884,
     "end_time": "2020-09-27T12:24:44.485853",
     "exception": false,
     "start_time": "2020-09-27T12:24:44.446969",
     "status": "completed"
    },
    "tags": []
   },
   "source": [
    "### Dump API TEKs"
   ]
  },
  {
   "cell_type": "code",
   "execution_count": 15,
   "metadata": {
    "execution": {
     "iopub.execute_input": "2020-09-27T12:24:44.579562Z",
     "iopub.status.busy": "2020-09-27T12:24:44.578984Z",
     "iopub.status.idle": "2020-09-27T12:24:44.611126Z",
     "shell.execute_reply": "2020-09-27T12:24:44.611870Z"
    },
    "papermill": {
     "duration": 0.089059,
     "end_time": "2020-09-27T12:24:44.612111",
     "exception": false,
     "start_time": "2020-09-27T12:24:44.523052",
     "status": "completed"
    },
    "tags": []
   },
   "outputs": [
    {
     "data": {
      "text/html": [
       "<div>\n",
       "<style scoped>\n",
       "    .dataframe tbody tr th:only-of-type {\n",
       "        vertical-align: middle;\n",
       "    }\n",
       "\n",
       "    .dataframe tbody tr th {\n",
       "        vertical-align: top;\n",
       "    }\n",
       "\n",
       "    .dataframe thead th {\n",
       "        text-align: right;\n",
       "    }\n",
       "</style>\n",
       "<table border=\"1\" class=\"dataframe\">\n",
       "  <thead>\n",
       "    <tr style=\"text-align: right;\">\n",
       "      <th></th>\n",
       "      <th>sample_date</th>\n",
       "      <th>region</th>\n",
       "      <th>tek_list</th>\n",
       "      <th>extraction_date</th>\n",
       "      <th>extraction_date_with_hour</th>\n",
       "    </tr>\n",
       "  </thead>\n",
       "  <tbody>\n",
       "    <tr>\n",
       "      <th>0</th>\n",
       "      <td>2020-09-14</td>\n",
       "      <td>ES</td>\n",
       "      <td>[ffc37730-2cba-1530-9f70-355e55fabd8d, e63eb79...</td>\n",
       "      <td>2020-09-27</td>\n",
       "      <td>2020-09-27@12</td>\n",
       "    </tr>\n",
       "    <tr>\n",
       "      <th>1</th>\n",
       "      <td>2020-09-15</td>\n",
       "      <td>ES</td>\n",
       "      <td>[31634101-bb0f-603e-79f1-818dc71bf69b, 09dda36...</td>\n",
       "      <td>2020-09-27</td>\n",
       "      <td>2020-09-27@12</td>\n",
       "    </tr>\n",
       "    <tr>\n",
       "      <th>2</th>\n",
       "      <td>2020-09-16</td>\n",
       "      <td>ES</td>\n",
       "      <td>[9c7d05f3-84cd-66fc-3f89-92d7ba290aa5, dd79f09...</td>\n",
       "      <td>2020-09-27</td>\n",
       "      <td>2020-09-27@12</td>\n",
       "    </tr>\n",
       "    <tr>\n",
       "      <th>3</th>\n",
       "      <td>2020-09-17</td>\n",
       "      <td>ES</td>\n",
       "      <td>[602daca2-f5d4-4231-3c20-92fda1d0643f, 3fbdaf2...</td>\n",
       "      <td>2020-09-27</td>\n",
       "      <td>2020-09-27@12</td>\n",
       "    </tr>\n",
       "    <tr>\n",
       "      <th>4</th>\n",
       "      <td>2020-09-18</td>\n",
       "      <td>ES</td>\n",
       "      <td>[a550688a-6333-6c44-2d85-7ebad4d0e82c, cb3c439...</td>\n",
       "      <td>2020-09-27</td>\n",
       "      <td>2020-09-27@12</td>\n",
       "    </tr>\n",
       "  </tbody>\n",
       "</table>\n",
       "</div>"
      ],
      "text/plain": [
       "  sample_date region                                           tek_list  \\\n",
       "0  2020-09-14     ES  [ffc37730-2cba-1530-9f70-355e55fabd8d, e63eb79...   \n",
       "1  2020-09-15     ES  [31634101-bb0f-603e-79f1-818dc71bf69b, 09dda36...   \n",
       "2  2020-09-16     ES  [9c7d05f3-84cd-66fc-3f89-92d7ba290aa5, dd79f09...   \n",
       "3  2020-09-17     ES  [602daca2-f5d4-4231-3c20-92fda1d0643f, 3fbdaf2...   \n",
       "4  2020-09-18     ES  [a550688a-6333-6c44-2d85-7ebad4d0e82c, cb3c439...   \n",
       "\n",
       "  extraction_date extraction_date_with_hour  \n",
       "0      2020-09-27             2020-09-27@12  \n",
       "1      2020-09-27             2020-09-27@12  \n",
       "2      2020-09-27             2020-09-27@12  \n",
       "3      2020-09-27             2020-09-27@12  \n",
       "4      2020-09-27             2020-09-27@12  "
      ]
     },
     "execution_count": 15,
     "metadata": {},
     "output_type": "execute_result"
    }
   ],
   "source": [
    "tek_list_df = multi_region_exposure_keys_df[\n",
    "    [\"sample_date_string\", \"region\", \"key_data\"]].copy()\n",
    "tek_list_df[\"key_data\"] = tek_list_df[\"key_data\"].apply(str)\n",
    "tek_list_df.rename(columns={\n",
    "    \"sample_date_string\": \"sample_date\",\n",
    "    \"key_data\": \"tek_list\"}, inplace=True)\n",
    "tek_list_df = tek_list_df.groupby(\n",
    "    [\"sample_date\", \"region\"]).tek_list.unique().reset_index()\n",
    "tek_list_df[\"extraction_date\"] = extraction_date\n",
    "tek_list_df[\"extraction_date_with_hour\"] = extraction_date_with_hour\n",
    "tek_list_df.drop(columns=[\"extraction_date\", \"extraction_date_with_hour\"]).to_json(\n",
    "    \"Data/TEKs/Current/RadarCOVID-TEKs.json\",\n",
    "    lines=True, orient=\"records\")\n",
    "tek_list_df.drop(columns=[\"extraction_date_with_hour\"]).to_json(\n",
    "    \"Data/TEKs/Daily/RadarCOVID-TEKs-\" + extraction_date + \".json\",\n",
    "    lines=True, orient=\"records\")\n",
    "tek_list_df.to_json(\n",
    "    \"Data/TEKs/Hourly/RadarCOVID-TEKs-\" + extraction_date_with_hour + \".json\",\n",
    "    lines=True, orient=\"records\")\n",
    "tek_list_df.head()"
   ]
  },
  {
   "cell_type": "markdown",
   "metadata": {
    "papermill": {
     "duration": 0.037803,
     "end_time": "2020-09-27T12:24:44.687985",
     "exception": false,
     "start_time": "2020-09-27T12:24:44.650182",
     "status": "completed"
    },
    "tags": []
   },
   "source": [
    "### Load TEK Dumps"
   ]
  },
  {
   "cell_type": "code",
   "execution_count": 16,
   "metadata": {
    "execution": {
     "iopub.execute_input": "2020-09-27T12:24:44.768996Z",
     "iopub.status.busy": "2020-09-27T12:24:44.768254Z",
     "iopub.status.idle": "2020-09-27T12:24:44.769784Z",
     "shell.execute_reply": "2020-09-27T12:24:44.770160Z"
    },
    "papermill": {
     "duration": 0.045463,
     "end_time": "2020-09-27T12:24:44.770303",
     "exception": false,
     "start_time": "2020-09-27T12:24:44.724840",
     "status": "completed"
    },
    "tags": []
   },
   "outputs": [],
   "source": [
    "import glob\n",
    "\n",
    "def load_extracted_teks(mode, region=None, limit=None) -> pd.DataFrame:\n",
    "    extracted_teks_df = pd.DataFrame(columns=[\"region\"])\n",
    "    paths = list(reversed(sorted(glob.glob(f\"Data/TEKs/{mode}/RadarCOVID-TEKs-*.json\"))))\n",
    "    if limit:\n",
    "        paths = paths[:limit]\n",
    "    for path in paths:\n",
    "        logging.info(f\"Loading TEKs from '{path}'...\")\n",
    "        iteration_extracted_teks_df = pd.read_json(path, lines=True)\n",
    "        extracted_teks_df = extracted_teks_df.append(\n",
    "            iteration_extracted_teks_df, sort=False)\n",
    "    extracted_teks_df[\"region\"] = \\\n",
    "        extracted_teks_df.region.fillna(spain_region_country_code).copy()\n",
    "    if region:\n",
    "        extracted_teks_df = \\\n",
    "            extracted_teks_df[extracted_teks_df.region == region]\n",
    "    return extracted_teks_df"
   ]
  },
  {
   "cell_type": "code",
   "execution_count": 17,
   "metadata": {
    "collapsed": false,
    "execution": {
     "iopub.execute_input": "2020-09-27T12:24:44.857006Z",
     "iopub.status.busy": "2020-09-27T12:24:44.856489Z",
     "iopub.status.idle": "2020-09-27T12:24:44.979181Z",
     "shell.execute_reply": "2020-09-27T12:24:44.979633Z"
    },
    "papermill": {
     "duration": 0.17028,
     "end_time": "2020-09-27T12:24:44.979794",
     "exception": false,
     "start_time": "2020-09-27T12:24:44.809514",
     "status": "completed"
    },
    "pycharm": {
     "name": "#%%\n"
    },
    "tags": []
   },
   "outputs": [
    {
     "data": {
      "text/html": [
       "<div>\n",
       "<style scoped>\n",
       "    .dataframe tbody tr th:only-of-type {\n",
       "        vertical-align: middle;\n",
       "    }\n",
       "\n",
       "    .dataframe tbody tr th {\n",
       "        vertical-align: top;\n",
       "    }\n",
       "\n",
       "    .dataframe thead th {\n",
       "        text-align: right;\n",
       "    }\n",
       "</style>\n",
       "<table border=\"1\" class=\"dataframe\">\n",
       "  <thead>\n",
       "    <tr style=\"text-align: right;\">\n",
       "      <th></th>\n",
       "      <th>region</th>\n",
       "      <th>sample_date</th>\n",
       "      <th>tek_list</th>\n",
       "      <th>extraction_date</th>\n",
       "    </tr>\n",
       "  </thead>\n",
       "  <tbody>\n",
       "    <tr>\n",
       "      <th>0</th>\n",
       "      <td>ES</td>\n",
       "      <td>2020-09-14</td>\n",
       "      <td>[ffc37730-2cba-1530-9f70-355e55fabd8d, e63eb79...</td>\n",
       "      <td>2020-09-27</td>\n",
       "    </tr>\n",
       "    <tr>\n",
       "      <th>1</th>\n",
       "      <td>ES</td>\n",
       "      <td>2020-09-15</td>\n",
       "      <td>[31634101-bb0f-603e-79f1-818dc71bf69b, 09dda36...</td>\n",
       "      <td>2020-09-27</td>\n",
       "    </tr>\n",
       "    <tr>\n",
       "      <th>2</th>\n",
       "      <td>ES</td>\n",
       "      <td>2020-09-16</td>\n",
       "      <td>[9c7d05f3-84cd-66fc-3f89-92d7ba290aa5, dd79f09...</td>\n",
       "      <td>2020-09-27</td>\n",
       "    </tr>\n",
       "    <tr>\n",
       "      <th>3</th>\n",
       "      <td>ES</td>\n",
       "      <td>2020-09-17</td>\n",
       "      <td>[602daca2-f5d4-4231-3c20-92fda1d0643f, 3fbdaf2...</td>\n",
       "      <td>2020-09-27</td>\n",
       "    </tr>\n",
       "    <tr>\n",
       "      <th>4</th>\n",
       "      <td>ES</td>\n",
       "      <td>2020-09-18</td>\n",
       "      <td>[a550688a-6333-6c44-2d85-7ebad4d0e82c, cb3c439...</td>\n",
       "      <td>2020-09-27</td>\n",
       "    </tr>\n",
       "  </tbody>\n",
       "</table>\n",
       "</div>"
      ],
      "text/plain": [
       "  region sample_date                                           tek_list  \\\n",
       "0     ES  2020-09-14  [ffc37730-2cba-1530-9f70-355e55fabd8d, e63eb79...   \n",
       "1     ES  2020-09-15  [31634101-bb0f-603e-79f1-818dc71bf69b, 09dda36...   \n",
       "2     ES  2020-09-16  [9c7d05f3-84cd-66fc-3f89-92d7ba290aa5, dd79f09...   \n",
       "3     ES  2020-09-17  [602daca2-f5d4-4231-3c20-92fda1d0643f, 3fbdaf2...   \n",
       "4     ES  2020-09-18  [a550688a-6333-6c44-2d85-7ebad4d0e82c, cb3c439...   \n",
       "\n",
       "  extraction_date  \n",
       "0      2020-09-27  \n",
       "1      2020-09-27  \n",
       "2      2020-09-27  \n",
       "3      2020-09-27  \n",
       "4      2020-09-27  "
      ]
     },
     "execution_count": 17,
     "metadata": {},
     "output_type": "execute_result"
    }
   ],
   "source": [
    "daily_extracted_teks_df = load_extracted_teks(\n",
    "    mode=\"Daily\",\n",
    "    region=spain_region_country_code,\n",
    "    limit=tek_dumps_load_limit)\n",
    "daily_extracted_teks_df.head()"
   ]
  },
  {
   "cell_type": "code",
   "execution_count": 18,
   "metadata": {
    "collapsed": false,
    "execution": {
     "iopub.execute_input": "2020-09-27T12:24:45.077227Z",
     "iopub.status.busy": "2020-09-27T12:24:45.076623Z",
     "iopub.status.idle": "2020-09-27T12:24:45.079724Z",
     "shell.execute_reply": "2020-09-27T12:24:45.079160Z"
    },
    "papermill": {
     "duration": 0.05716,
     "end_time": "2020-09-27T12:24:45.079853",
     "exception": false,
     "start_time": "2020-09-27T12:24:45.022693",
     "status": "completed"
    },
    "pycharm": {
     "name": "#%%\n"
    },
    "tags": []
   },
   "outputs": [
    {
     "data": {
      "text/html": [
       "<div>\n",
       "<style scoped>\n",
       "    .dataframe tbody tr th:only-of-type {\n",
       "        vertical-align: middle;\n",
       "    }\n",
       "\n",
       "    .dataframe tbody tr th {\n",
       "        vertical-align: top;\n",
       "    }\n",
       "\n",
       "    .dataframe thead th {\n",
       "        text-align: right;\n",
       "    }\n",
       "</style>\n",
       "<table border=\"1\" class=\"dataframe\">\n",
       "  <thead>\n",
       "    <tr style=\"text-align: right;\">\n",
       "      <th></th>\n",
       "      <th>shared_teks_by_generation_date</th>\n",
       "    </tr>\n",
       "    <tr>\n",
       "      <th>sample_date_string</th>\n",
       "      <th></th>\n",
       "    </tr>\n",
       "  </thead>\n",
       "  <tbody>\n",
       "    <tr>\n",
       "      <th>2020-09-27</th>\n",
       "      <td>46</td>\n",
       "    </tr>\n",
       "    <tr>\n",
       "      <th>2020-09-26</th>\n",
       "      <td>155</td>\n",
       "    </tr>\n",
       "    <tr>\n",
       "      <th>2020-09-25</th>\n",
       "      <td>162</td>\n",
       "    </tr>\n",
       "    <tr>\n",
       "      <th>2020-09-24</th>\n",
       "      <td>201</td>\n",
       "    </tr>\n",
       "    <tr>\n",
       "      <th>2020-09-23</th>\n",
       "      <td>241</td>\n",
       "    </tr>\n",
       "  </tbody>\n",
       "</table>\n",
       "</div>"
      ],
      "text/plain": [
       "                    shared_teks_by_generation_date\n",
       "sample_date_string                                \n",
       "2020-09-27                                      46\n",
       "2020-09-26                                     155\n",
       "2020-09-25                                     162\n",
       "2020-09-24                                     201\n",
       "2020-09-23                                     241"
      ]
     },
     "execution_count": 18,
     "metadata": {},
     "output_type": "execute_result"
    }
   ],
   "source": [
    "exposure_keys_summary_df_ = daily_extracted_teks_df \\\n",
    "    .sort_values(\"extraction_date\", ascending=False) \\\n",
    "    .groupby(\"sample_date\").tek_list.first() \\\n",
    "    .to_frame()\n",
    "exposure_keys_summary_df_.index.name = \"sample_date_string\"\n",
    "exposure_keys_summary_df_[\"tek_list\"] = \\\n",
    "    exposure_keys_summary_df_.tek_list.apply(len)\n",
    "exposure_keys_summary_df_ = exposure_keys_summary_df_ \\\n",
    "    .rename(columns={\"tek_list\": \"shared_teks_by_generation_date\"}) \\\n",
    "    .sort_index(ascending=False)\n",
    "exposure_keys_summary_df = exposure_keys_summary_df_\n",
    "exposure_keys_summary_df.head()"
   ]
  },
  {
   "cell_type": "markdown",
   "metadata": {
    "execution": {
     "iopub.execute_input": "2020-08-30T22:30:16.632967Z",
     "iopub.status.busy": "2020-08-30T22:30:16.632308Z",
     "iopub.status.idle": "2020-08-30T22:30:16.634945Z",
     "shell.execute_reply": "2020-08-30T22:30:16.635575Z"
    },
    "papermill": {
     "duration": 0.038943,
     "end_time": "2020-09-27T12:24:45.158160",
     "exception": false,
     "start_time": "2020-09-27T12:24:45.119217",
     "status": "completed"
    },
    "pycharm": {
     "name": "#%% md\n"
    },
    "tags": []
   },
   "source": [
    "### Daily New TEKs"
   ]
  },
  {
   "cell_type": "code",
   "execution_count": 19,
   "metadata": {
    "execution": {
     "iopub.execute_input": "2020-09-27T12:24:45.267659Z",
     "iopub.status.busy": "2020-09-27T12:24:45.267058Z",
     "iopub.status.idle": "2020-09-27T12:24:45.269466Z",
     "shell.execute_reply": "2020-09-27T12:24:45.269904Z"
    },
    "papermill": {
     "duration": 0.070536,
     "end_time": "2020-09-27T12:24:45.270064",
     "exception": false,
     "start_time": "2020-09-27T12:24:45.199528",
     "status": "completed"
    },
    "tags": []
   },
   "outputs": [
    {
     "data": {
      "text/html": [
       "<div>\n",
       "<style scoped>\n",
       "    .dataframe tbody tr th:only-of-type {\n",
       "        vertical-align: middle;\n",
       "    }\n",
       "\n",
       "    .dataframe tbody tr th {\n",
       "        vertical-align: top;\n",
       "    }\n",
       "\n",
       "    .dataframe thead th {\n",
       "        text-align: right;\n",
       "    }\n",
       "</style>\n",
       "<table border=\"1\" class=\"dataframe\">\n",
       "  <thead>\n",
       "    <tr style=\"text-align: right;\">\n",
       "      <th></th>\n",
       "      <th>tek_list</th>\n",
       "    </tr>\n",
       "    <tr>\n",
       "      <th>extraction_date</th>\n",
       "      <th></th>\n",
       "    </tr>\n",
       "  </thead>\n",
       "  <tbody>\n",
       "    <tr>\n",
       "      <th>2020-09-06</th>\n",
       "      <td>{58cb9587-c0aa-0c01-89c4-d218e601ea51, 089f485...</td>\n",
       "    </tr>\n",
       "    <tr>\n",
       "      <th>2020-09-07</th>\n",
       "      <td>{2c4e89dc-8e0c-1c24-24bc-e5ded40184d4, 58cb958...</td>\n",
       "    </tr>\n",
       "    <tr>\n",
       "      <th>2020-09-08</th>\n",
       "      <td>{2c4e89dc-8e0c-1c24-24bc-e5ded40184d4, 58cb958...</td>\n",
       "    </tr>\n",
       "    <tr>\n",
       "      <th>2020-09-09</th>\n",
       "      <td>{2c4e89dc-8e0c-1c24-24bc-e5ded40184d4, 58cb958...</td>\n",
       "    </tr>\n",
       "    <tr>\n",
       "      <th>2020-09-10</th>\n",
       "      <td>{2c4e89dc-8e0c-1c24-24bc-e5ded40184d4, b60efb5...</td>\n",
       "    </tr>\n",
       "  </tbody>\n",
       "</table>\n",
       "</div>"
      ],
      "text/plain": [
       "                                                          tek_list\n",
       "extraction_date                                                   \n",
       "2020-09-06       {58cb9587-c0aa-0c01-89c4-d218e601ea51, 089f485...\n",
       "2020-09-07       {2c4e89dc-8e0c-1c24-24bc-e5ded40184d4, 58cb958...\n",
       "2020-09-08       {2c4e89dc-8e0c-1c24-24bc-e5ded40184d4, 58cb958...\n",
       "2020-09-09       {2c4e89dc-8e0c-1c24-24bc-e5ded40184d4, 58cb958...\n",
       "2020-09-10       {2c4e89dc-8e0c-1c24-24bc-e5ded40184d4, b60efb5..."
      ]
     },
     "execution_count": 19,
     "metadata": {},
     "output_type": "execute_result"
    }
   ],
   "source": [
    "tek_list_df = daily_extracted_teks_df.groupby(\"extraction_date\").tek_list.apply(\n",
    "    lambda x: set(sum(x, []))).reset_index()\n",
    "tek_list_df = tek_list_df.set_index(\"extraction_date\").sort_index(ascending=True)\n",
    "tek_list_df.head()"
   ]
  },
  {
   "cell_type": "code",
   "execution_count": 20,
   "metadata": {
    "execution": {
     "iopub.execute_input": "2020-09-27T12:24:45.372247Z",
     "iopub.status.busy": "2020-09-27T12:24:45.371640Z",
     "iopub.status.idle": "2020-09-27T12:24:45.374582Z",
     "shell.execute_reply": "2020-09-27T12:24:45.375348Z"
    },
    "papermill": {
     "duration": 0.060754,
     "end_time": "2020-09-27T12:24:45.375571",
     "exception": false,
     "start_time": "2020-09-27T12:24:45.314817",
     "status": "completed"
    },
    "tags": []
   },
   "outputs": [
    {
     "data": {
      "text/html": [
       "<div>\n",
       "<style scoped>\n",
       "    .dataframe tbody tr th:only-of-type {\n",
       "        vertical-align: middle;\n",
       "    }\n",
       "\n",
       "    .dataframe tbody tr th {\n",
       "        vertical-align: top;\n",
       "    }\n",
       "\n",
       "    .dataframe thead th {\n",
       "        text-align: right;\n",
       "    }\n",
       "</style>\n",
       "<table border=\"1\" class=\"dataframe\">\n",
       "  <thead>\n",
       "    <tr style=\"text-align: right;\">\n",
       "      <th></th>\n",
       "      <th>sample_date_string</th>\n",
       "      <th>shared_teks_by_upload_date</th>\n",
       "    </tr>\n",
       "  </thead>\n",
       "  <tbody>\n",
       "    <tr>\n",
       "      <th>17</th>\n",
       "      <td>2020-09-23</td>\n",
       "      <td>267.0</td>\n",
       "    </tr>\n",
       "    <tr>\n",
       "      <th>18</th>\n",
       "      <td>2020-09-24</td>\n",
       "      <td>289.0</td>\n",
       "    </tr>\n",
       "    <tr>\n",
       "      <th>19</th>\n",
       "      <td>2020-09-25</td>\n",
       "      <td>306.0</td>\n",
       "    </tr>\n",
       "    <tr>\n",
       "      <th>20</th>\n",
       "      <td>2020-09-26</td>\n",
       "      <td>448.0</td>\n",
       "    </tr>\n",
       "    <tr>\n",
       "      <th>21</th>\n",
       "      <td>2020-09-27</td>\n",
       "      <td>250.0</td>\n",
       "    </tr>\n",
       "  </tbody>\n",
       "</table>\n",
       "</div>"
      ],
      "text/plain": [
       "   sample_date_string  shared_teks_by_upload_date\n",
       "17         2020-09-23                       267.0\n",
       "18         2020-09-24                       289.0\n",
       "19         2020-09-25                       306.0\n",
       "20         2020-09-26                       448.0\n",
       "21         2020-09-27                       250.0"
      ]
     },
     "execution_count": 20,
     "metadata": {},
     "output_type": "execute_result"
    }
   ],
   "source": [
    "new_tek_df = tek_list_df.diff().tek_list.apply(\n",
    "    lambda x: len(x) if not pd.isna(x) else None).to_frame().reset_index()\n",
    "new_tek_df.rename(columns={\n",
    "    \"tek_list\": \"shared_teks_by_upload_date\",\n",
    "    \"extraction_date\": \"sample_date_string\",}, inplace=True)\n",
    "new_tek_df.tail()"
   ]
  },
  {
   "cell_type": "code",
   "execution_count": 21,
   "metadata": {
    "execution": {
     "iopub.execute_input": "2020-09-27T12:24:45.467841Z",
     "iopub.status.busy": "2020-09-27T12:24:45.467255Z",
     "iopub.status.idle": "2020-09-27T12:24:45.490042Z",
     "shell.execute_reply": "2020-09-27T12:24:45.489468Z"
    },
    "papermill": {
     "duration": 0.070958,
     "end_time": "2020-09-27T12:24:45.490180",
     "exception": false,
     "start_time": "2020-09-27T12:24:45.419222",
     "status": "completed"
    },
    "pycharm": {
     "name": "#%%\n"
    },
    "tags": []
   },
   "outputs": [
    {
     "data": {
      "text/html": [
       "<div>\n",
       "<style scoped>\n",
       "    .dataframe tbody tr th:only-of-type {\n",
       "        vertical-align: middle;\n",
       "    }\n",
       "\n",
       "    .dataframe tbody tr th {\n",
       "        vertical-align: top;\n",
       "    }\n",
       "\n",
       "    .dataframe thead th {\n",
       "        text-align: right;\n",
       "    }\n",
       "</style>\n",
       "<table border=\"1\" class=\"dataframe\">\n",
       "  <thead>\n",
       "    <tr style=\"text-align: right;\">\n",
       "      <th></th>\n",
       "      <th>region</th>\n",
       "      <th>sample_date</th>\n",
       "      <th>tek_list</th>\n",
       "      <th>extraction_date</th>\n",
       "      <th>new_sample_extraction_date</th>\n",
       "    </tr>\n",
       "  </thead>\n",
       "  <tbody>\n",
       "    <tr>\n",
       "      <th>0</th>\n",
       "      <td>ES</td>\n",
       "      <td>2020-09-14</td>\n",
       "      <td>[ffc37730-2cba-1530-9f70-355e55fabd8d, e63eb79...</td>\n",
       "      <td>2020-09-27</td>\n",
       "      <td>2020-09-15</td>\n",
       "    </tr>\n",
       "    <tr>\n",
       "      <th>1</th>\n",
       "      <td>ES</td>\n",
       "      <td>2020-09-15</td>\n",
       "      <td>[31634101-bb0f-603e-79f1-818dc71bf69b, 09dda36...</td>\n",
       "      <td>2020-09-27</td>\n",
       "      <td>2020-09-16</td>\n",
       "    </tr>\n",
       "    <tr>\n",
       "      <th>2</th>\n",
       "      <td>ES</td>\n",
       "      <td>2020-09-16</td>\n",
       "      <td>[9c7d05f3-84cd-66fc-3f89-92d7ba290aa5, dd79f09...</td>\n",
       "      <td>2020-09-27</td>\n",
       "      <td>2020-09-17</td>\n",
       "    </tr>\n",
       "    <tr>\n",
       "      <th>3</th>\n",
       "      <td>ES</td>\n",
       "      <td>2020-09-17</td>\n",
       "      <td>[602daca2-f5d4-4231-3c20-92fda1d0643f, 3fbdaf2...</td>\n",
       "      <td>2020-09-27</td>\n",
       "      <td>2020-09-18</td>\n",
       "    </tr>\n",
       "    <tr>\n",
       "      <th>4</th>\n",
       "      <td>ES</td>\n",
       "      <td>2020-09-18</td>\n",
       "      <td>[a550688a-6333-6c44-2d85-7ebad4d0e82c, cb3c439...</td>\n",
       "      <td>2020-09-27</td>\n",
       "      <td>2020-09-19</td>\n",
       "    </tr>\n",
       "  </tbody>\n",
       "</table>\n",
       "</div>"
      ],
      "text/plain": [
       "  region sample_date                                           tek_list  \\\n",
       "0     ES  2020-09-14  [ffc37730-2cba-1530-9f70-355e55fabd8d, e63eb79...   \n",
       "1     ES  2020-09-15  [31634101-bb0f-603e-79f1-818dc71bf69b, 09dda36...   \n",
       "2     ES  2020-09-16  [9c7d05f3-84cd-66fc-3f89-92d7ba290aa5, dd79f09...   \n",
       "3     ES  2020-09-17  [602daca2-f5d4-4231-3c20-92fda1d0643f, 3fbdaf2...   \n",
       "4     ES  2020-09-18  [a550688a-6333-6c44-2d85-7ebad4d0e82c, cb3c439...   \n",
       "\n",
       "  extraction_date new_sample_extraction_date  \n",
       "0      2020-09-27                 2020-09-15  \n",
       "1      2020-09-27                 2020-09-16  \n",
       "2      2020-09-27                 2020-09-17  \n",
       "3      2020-09-27                 2020-09-18  \n",
       "4      2020-09-27                 2020-09-19  "
      ]
     },
     "execution_count": 21,
     "metadata": {},
     "output_type": "execute_result"
    }
   ],
   "source": [
    "estimated_shared_diagnoses_df = daily_extracted_teks_df.copy()\n",
    "estimated_shared_diagnoses_df[\"new_sample_extraction_date\"] = \\\n",
    "    pd.to_datetime(estimated_shared_diagnoses_df.sample_date) + datetime.timedelta(1)\n",
    "estimated_shared_diagnoses_df[\"extraction_date\"] = pd.to_datetime(estimated_shared_diagnoses_df.extraction_date)\n",
    "estimated_shared_diagnoses_df[\"sample_date\"] = pd.to_datetime(estimated_shared_diagnoses_df.sample_date)\n",
    "estimated_shared_diagnoses_df.head()"
   ]
  },
  {
   "cell_type": "code",
   "execution_count": 22,
   "metadata": {
    "collapsed": false,
    "execution": {
     "iopub.execute_input": "2020-09-27T12:24:45.579882Z",
     "iopub.status.busy": "2020-09-27T12:24:45.579326Z",
     "iopub.status.idle": "2020-09-27T12:24:45.593181Z",
     "shell.execute_reply": "2020-09-27T12:24:45.592635Z"
    },
    "papermill": {
     "duration": 0.062044,
     "end_time": "2020-09-27T12:24:45.593316",
     "exception": false,
     "start_time": "2020-09-27T12:24:45.531272",
     "status": "completed"
    },
    "pycharm": {
     "name": "#%%\n"
    },
    "tags": []
   },
   "outputs": [
    {
     "data": {
      "text/html": [
       "<div>\n",
       "<style scoped>\n",
       "    .dataframe tbody tr th:only-of-type {\n",
       "        vertical-align: middle;\n",
       "    }\n",
       "\n",
       "    .dataframe tbody tr th {\n",
       "        vertical-align: top;\n",
       "    }\n",
       "\n",
       "    .dataframe thead th {\n",
       "        text-align: right;\n",
       "    }\n",
       "</style>\n",
       "<table border=\"1\" class=\"dataframe\">\n",
       "  <thead>\n",
       "    <tr style=\"text-align: right;\">\n",
       "      <th></th>\n",
       "      <th>extraction_date</th>\n",
       "      <th>same_day_tek_list</th>\n",
       "    </tr>\n",
       "  </thead>\n",
       "  <tbody>\n",
       "    <tr>\n",
       "      <th>13</th>\n",
       "      <td>2020-09-27</td>\n",
       "      <td>[4df613fa-28ec-a6a1-229f-4836e30577de, e9f3c0c...</td>\n",
       "    </tr>\n",
       "    <tr>\n",
       "      <th>13</th>\n",
       "      <td>2020-09-26</td>\n",
       "      <td>[a69399a5-1b23-be87-cc66-601a1b76fd89, 0306447...</td>\n",
       "    </tr>\n",
       "    <tr>\n",
       "      <th>13</th>\n",
       "      <td>2020-09-25</td>\n",
       "      <td>[a5a10ba0-d9d8-c3fd-1dd2-211cefe2daf1, f38ed0c...</td>\n",
       "    </tr>\n",
       "    <tr>\n",
       "      <th>13</th>\n",
       "      <td>2020-09-24</td>\n",
       "      <td>[e50b39c0-7a14-64e4-56ca-a1e42190eec8, 4937ac0...</td>\n",
       "    </tr>\n",
       "    <tr>\n",
       "      <th>13</th>\n",
       "      <td>2020-09-23</td>\n",
       "      <td>[6593604c-ae79-fade-9448-9781bbec6553, d527a06...</td>\n",
       "    </tr>\n",
       "  </tbody>\n",
       "</table>\n",
       "</div>"
      ],
      "text/plain": [
       "   extraction_date                                  same_day_tek_list\n",
       "13      2020-09-27  [4df613fa-28ec-a6a1-229f-4836e30577de, e9f3c0c...\n",
       "13      2020-09-26  [a69399a5-1b23-be87-cc66-601a1b76fd89, 0306447...\n",
       "13      2020-09-25  [a5a10ba0-d9d8-c3fd-1dd2-211cefe2daf1, f38ed0c...\n",
       "13      2020-09-24  [e50b39c0-7a14-64e4-56ca-a1e42190eec8, 4937ac0...\n",
       "13      2020-09-23  [6593604c-ae79-fade-9448-9781bbec6553, d527a06..."
      ]
     },
     "execution_count": 22,
     "metadata": {},
     "output_type": "execute_result"
    }
   ],
   "source": [
    "# Sometimes TEKs from the same day are uploaded, we do not count them as new TEK devices:\n",
    "same_day_tek_list_df = estimated_shared_diagnoses_df[\n",
    "    estimated_shared_diagnoses_df.sample_date == estimated_shared_diagnoses_df.extraction_date].copy()\n",
    "same_day_tek_list_df = same_day_tek_list_df[[\"extraction_date\", \"tek_list\"]].rename(\n",
    "    columns={\"tek_list\": \"same_day_tek_list\"})\n",
    "same_day_tek_list_df.head()"
   ]
  },
  {
   "cell_type": "code",
   "execution_count": 23,
   "metadata": {
    "collapsed": false,
    "execution": {
     "iopub.execute_input": "2020-09-27T12:24:45.686068Z",
     "iopub.status.busy": "2020-09-27T12:24:45.685415Z",
     "iopub.status.idle": "2020-09-27T12:24:45.695444Z",
     "shell.execute_reply": "2020-09-27T12:24:45.695849Z"
    },
    "papermill": {
     "duration": 0.057351,
     "end_time": "2020-09-27T12:24:45.696007",
     "exception": false,
     "start_time": "2020-09-27T12:24:45.638656",
     "status": "completed"
    },
    "pycharm": {
     "name": "#%%\n"
    },
    "tags": []
   },
   "outputs": [
    {
     "data": {
      "text/html": [
       "<div>\n",
       "<style scoped>\n",
       "    .dataframe tbody tr th:only-of-type {\n",
       "        vertical-align: middle;\n",
       "    }\n",
       "\n",
       "    .dataframe tbody tr th {\n",
       "        vertical-align: top;\n",
       "    }\n",
       "\n",
       "    .dataframe thead th {\n",
       "        text-align: right;\n",
       "    }\n",
       "</style>\n",
       "<table border=\"1\" class=\"dataframe\">\n",
       "  <thead>\n",
       "    <tr style=\"text-align: right;\">\n",
       "      <th></th>\n",
       "      <th>sample_date_string</th>\n",
       "      <th>shared_teks_uploaded_on_generation_date</th>\n",
       "    </tr>\n",
       "  </thead>\n",
       "  <tbody>\n",
       "    <tr>\n",
       "      <th>13</th>\n",
       "      <td>2020-09-27</td>\n",
       "      <td>46</td>\n",
       "    </tr>\n",
       "    <tr>\n",
       "      <th>13</th>\n",
       "      <td>2020-09-26</td>\n",
       "      <td>79</td>\n",
       "    </tr>\n",
       "    <tr>\n",
       "      <th>13</th>\n",
       "      <td>2020-09-25</td>\n",
       "      <td>14</td>\n",
       "    </tr>\n",
       "    <tr>\n",
       "      <th>13</th>\n",
       "      <td>2020-09-24</td>\n",
       "      <td>17</td>\n",
       "    </tr>\n",
       "    <tr>\n",
       "      <th>13</th>\n",
       "      <td>2020-09-23</td>\n",
       "      <td>4</td>\n",
       "    </tr>\n",
       "  </tbody>\n",
       "</table>\n",
       "</div>"
      ],
      "text/plain": [
       "   sample_date_string  shared_teks_uploaded_on_generation_date\n",
       "13         2020-09-27                                       46\n",
       "13         2020-09-26                                       79\n",
       "13         2020-09-25                                       14\n",
       "13         2020-09-24                                       17\n",
       "13         2020-09-23                                        4"
      ]
     },
     "execution_count": 23,
     "metadata": {},
     "output_type": "execute_result"
    }
   ],
   "source": [
    "shared_teks_uploaded_on_generation_date_df = same_day_tek_list_df.rename(\n",
    "    columns={\n",
    "        \"extraction_date\": \"sample_date_string\",\n",
    "        \"same_day_tek_list\": \"shared_teks_uploaded_on_generation_date\",\n",
    "    })\n",
    "shared_teks_uploaded_on_generation_date_df.shared_teks_uploaded_on_generation_date = \\\n",
    " shared_teks_uploaded_on_generation_date_df.shared_teks_uploaded_on_generation_date.apply(len)\n",
    "shared_teks_uploaded_on_generation_date_df.head()\n",
    "shared_teks_uploaded_on_generation_date_df[\"sample_date_string\"] = \\\n",
    "    shared_teks_uploaded_on_generation_date_df.sample_date_string.dt.strftime(\"%Y-%m-%d\")\n",
    "shared_teks_uploaded_on_generation_date_df.head()"
   ]
  },
  {
   "cell_type": "code",
   "execution_count": 24,
   "metadata": {
    "collapsed": false,
    "execution": {
     "iopub.execute_input": "2020-09-27T12:24:45.794305Z",
     "iopub.status.busy": "2020-09-27T12:24:45.793727Z",
     "iopub.status.idle": "2020-09-27T12:24:45.796828Z",
     "shell.execute_reply": "2020-09-27T12:24:45.796377Z"
    },
    "papermill": {
     "duration": 0.061498,
     "end_time": "2020-09-27T12:24:45.796953",
     "exception": false,
     "start_time": "2020-09-27T12:24:45.735455",
     "status": "completed"
    },
    "pycharm": {
     "name": "#%%\n"
    },
    "tags": []
   },
   "outputs": [
    {
     "data": {
      "text/html": [
       "<div>\n",
       "<style scoped>\n",
       "    .dataframe tbody tr th:only-of-type {\n",
       "        vertical-align: middle;\n",
       "    }\n",
       "\n",
       "    .dataframe tbody tr th {\n",
       "        vertical-align: top;\n",
       "    }\n",
       "\n",
       "    .dataframe thead th {\n",
       "        text-align: right;\n",
       "    }\n",
       "</style>\n",
       "<table border=\"1\" class=\"dataframe\">\n",
       "  <thead>\n",
       "    <tr style=\"text-align: right;\">\n",
       "      <th></th>\n",
       "      <th>region</th>\n",
       "      <th>sample_date</th>\n",
       "      <th>tek_list</th>\n",
       "      <th>extraction_date</th>\n",
       "      <th>new_sample_extraction_date</th>\n",
       "    </tr>\n",
       "  </thead>\n",
       "  <tbody>\n",
       "    <tr>\n",
       "      <th>12</th>\n",
       "      <td>ES</td>\n",
       "      <td>2020-09-26</td>\n",
       "      <td>[81d95b07-68c5-41ee-c770-5a294446550a, 26ea2a3...</td>\n",
       "      <td>2020-09-27</td>\n",
       "      <td>2020-09-27</td>\n",
       "    </tr>\n",
       "    <tr>\n",
       "      <th>12</th>\n",
       "      <td>ES</td>\n",
       "      <td>2020-09-25</td>\n",
       "      <td>[80459115-080b-847c-2c3a-ffdf016379ec, df35cae...</td>\n",
       "      <td>2020-09-26</td>\n",
       "      <td>2020-09-26</td>\n",
       "    </tr>\n",
       "    <tr>\n",
       "      <th>12</th>\n",
       "      <td>ES</td>\n",
       "      <td>2020-09-24</td>\n",
       "      <td>[47e258af-36cd-117b-482d-84655184ffd6, 62c0e0e...</td>\n",
       "      <td>2020-09-25</td>\n",
       "      <td>2020-09-25</td>\n",
       "    </tr>\n",
       "    <tr>\n",
       "      <th>12</th>\n",
       "      <td>ES</td>\n",
       "      <td>2020-09-23</td>\n",
       "      <td>[a32a59f9-242d-082f-5499-d59cc496b461, 253d5ce...</td>\n",
       "      <td>2020-09-24</td>\n",
       "      <td>2020-09-24</td>\n",
       "    </tr>\n",
       "    <tr>\n",
       "      <th>12</th>\n",
       "      <td>ES</td>\n",
       "      <td>2020-09-22</td>\n",
       "      <td>[2ed4f36e-18ba-0d87-b906-0b3ab4cd3558, d160581...</td>\n",
       "      <td>2020-09-23</td>\n",
       "      <td>2020-09-23</td>\n",
       "    </tr>\n",
       "  </tbody>\n",
       "</table>\n",
       "</div>"
      ],
      "text/plain": [
       "   region sample_date                                           tek_list  \\\n",
       "12     ES  2020-09-26  [81d95b07-68c5-41ee-c770-5a294446550a, 26ea2a3...   \n",
       "12     ES  2020-09-25  [80459115-080b-847c-2c3a-ffdf016379ec, df35cae...   \n",
       "12     ES  2020-09-24  [47e258af-36cd-117b-482d-84655184ffd6, 62c0e0e...   \n",
       "12     ES  2020-09-23  [a32a59f9-242d-082f-5499-d59cc496b461, 253d5ce...   \n",
       "12     ES  2020-09-22  [2ed4f36e-18ba-0d87-b906-0b3ab4cd3558, d160581...   \n",
       "\n",
       "   extraction_date new_sample_extraction_date  \n",
       "12      2020-09-27                 2020-09-27  \n",
       "12      2020-09-26                 2020-09-26  \n",
       "12      2020-09-25                 2020-09-25  \n",
       "12      2020-09-24                 2020-09-24  \n",
       "12      2020-09-23                 2020-09-23  "
      ]
     },
     "execution_count": 24,
     "metadata": {},
     "output_type": "execute_result"
    }
   ],
   "source": [
    "estimated_shared_diagnoses_df = estimated_shared_diagnoses_df[\n",
    "    estimated_shared_diagnoses_df.new_sample_extraction_date == estimated_shared_diagnoses_df.extraction_date]\n",
    "estimated_shared_diagnoses_df.head()"
   ]
  },
  {
   "cell_type": "code",
   "execution_count": 25,
   "metadata": {
    "collapsed": false,
    "execution": {
     "iopub.execute_input": "2020-09-27T12:24:45.889012Z",
     "iopub.status.busy": "2020-09-27T12:24:45.888326Z",
     "iopub.status.idle": "2020-09-27T12:24:45.910290Z",
     "shell.execute_reply": "2020-09-27T12:24:45.909786Z"
    },
    "papermill": {
     "duration": 0.068212,
     "end_time": "2020-09-27T12:24:45.910427",
     "exception": false,
     "start_time": "2020-09-27T12:24:45.842215",
     "status": "completed"
    },
    "pycharm": {
     "name": "#%%\n"
    },
    "tags": []
   },
   "outputs": [
    {
     "data": {
      "text/html": [
       "<div>\n",
       "<style scoped>\n",
       "    .dataframe tbody tr th:only-of-type {\n",
       "        vertical-align: middle;\n",
       "    }\n",
       "\n",
       "    .dataframe tbody tr th {\n",
       "        vertical-align: top;\n",
       "    }\n",
       "\n",
       "    .dataframe thead th {\n",
       "        text-align: right;\n",
       "    }\n",
       "</style>\n",
       "<table border=\"1\" class=\"dataframe\">\n",
       "  <thead>\n",
       "    <tr style=\"text-align: right;\">\n",
       "      <th></th>\n",
       "      <th>region</th>\n",
       "      <th>sample_date</th>\n",
       "      <th>tek_list</th>\n",
       "      <th>extraction_date</th>\n",
       "      <th>new_sample_extraction_date</th>\n",
       "      <th>same_day_tek_list</th>\n",
       "    </tr>\n",
       "  </thead>\n",
       "  <tbody>\n",
       "    <tr>\n",
       "      <th>0</th>\n",
       "      <td>ES</td>\n",
       "      <td>2020-09-26</td>\n",
       "      <td>[81d95b07-68c5-41ee-c770-5a294446550a, 26ea2a3...</td>\n",
       "      <td>2020-09-27</td>\n",
       "      <td>2020-09-27</td>\n",
       "      <td>[a69399a5-1b23-be87-cc66-601a1b76fd89, 0306447...</td>\n",
       "    </tr>\n",
       "    <tr>\n",
       "      <th>1</th>\n",
       "      <td>ES</td>\n",
       "      <td>2020-09-25</td>\n",
       "      <td>[80459115-080b-847c-2c3a-ffdf016379ec, df35cae...</td>\n",
       "      <td>2020-09-26</td>\n",
       "      <td>2020-09-26</td>\n",
       "      <td>[a5a10ba0-d9d8-c3fd-1dd2-211cefe2daf1, f38ed0c...</td>\n",
       "    </tr>\n",
       "    <tr>\n",
       "      <th>2</th>\n",
       "      <td>ES</td>\n",
       "      <td>2020-09-24</td>\n",
       "      <td>[47e258af-36cd-117b-482d-84655184ffd6, 62c0e0e...</td>\n",
       "      <td>2020-09-25</td>\n",
       "      <td>2020-09-25</td>\n",
       "      <td>[e50b39c0-7a14-64e4-56ca-a1e42190eec8, 4937ac0...</td>\n",
       "    </tr>\n",
       "    <tr>\n",
       "      <th>3</th>\n",
       "      <td>ES</td>\n",
       "      <td>2020-09-23</td>\n",
       "      <td>[a32a59f9-242d-082f-5499-d59cc496b461, 253d5ce...</td>\n",
       "      <td>2020-09-24</td>\n",
       "      <td>2020-09-24</td>\n",
       "      <td>[6593604c-ae79-fade-9448-9781bbec6553, d527a06...</td>\n",
       "    </tr>\n",
       "    <tr>\n",
       "      <th>4</th>\n",
       "      <td>ES</td>\n",
       "      <td>2020-09-22</td>\n",
       "      <td>[2ed4f36e-18ba-0d87-b906-0b3ab4cd3558, d160581...</td>\n",
       "      <td>2020-09-23</td>\n",
       "      <td>2020-09-23</td>\n",
       "      <td>[]</td>\n",
       "    </tr>\n",
       "  </tbody>\n",
       "</table>\n",
       "</div>"
      ],
      "text/plain": [
       "  region sample_date                                           tek_list  \\\n",
       "0     ES  2020-09-26  [81d95b07-68c5-41ee-c770-5a294446550a, 26ea2a3...   \n",
       "1     ES  2020-09-25  [80459115-080b-847c-2c3a-ffdf016379ec, df35cae...   \n",
       "2     ES  2020-09-24  [47e258af-36cd-117b-482d-84655184ffd6, 62c0e0e...   \n",
       "3     ES  2020-09-23  [a32a59f9-242d-082f-5499-d59cc496b461, 253d5ce...   \n",
       "4     ES  2020-09-22  [2ed4f36e-18ba-0d87-b906-0b3ab4cd3558, d160581...   \n",
       "\n",
       "  extraction_date new_sample_extraction_date  \\\n",
       "0      2020-09-27                 2020-09-27   \n",
       "1      2020-09-26                 2020-09-26   \n",
       "2      2020-09-25                 2020-09-25   \n",
       "3      2020-09-24                 2020-09-24   \n",
       "4      2020-09-23                 2020-09-23   \n",
       "\n",
       "                                   same_day_tek_list  \n",
       "0  [a69399a5-1b23-be87-cc66-601a1b76fd89, 0306447...  \n",
       "1  [a5a10ba0-d9d8-c3fd-1dd2-211cefe2daf1, f38ed0c...  \n",
       "2  [e50b39c0-7a14-64e4-56ca-a1e42190eec8, 4937ac0...  \n",
       "3  [6593604c-ae79-fade-9448-9781bbec6553, d527a06...  \n",
       "4                                                 []  "
      ]
     },
     "execution_count": 25,
     "metadata": {},
     "output_type": "execute_result"
    }
   ],
   "source": [
    "same_day_tek_list_df[\"extraction_date\"] = \\\n",
    "    same_day_tek_list_df.extraction_date + datetime.timedelta(1)\n",
    "estimated_shared_diagnoses_df = \\\n",
    "    estimated_shared_diagnoses_df.merge(same_day_tek_list_df, how=\"left\", on=[\"extraction_date\"])\n",
    "estimated_shared_diagnoses_df[\"same_day_tek_list\"] = \\\n",
    "    estimated_shared_diagnoses_df.same_day_tek_list.apply(lambda x: [] if x is np.nan else x)\n",
    "estimated_shared_diagnoses_df.head()"
   ]
  },
  {
   "cell_type": "code",
   "execution_count": 26,
   "metadata": {
    "execution": {
     "iopub.execute_input": "2020-09-27T12:24:46.004483Z",
     "iopub.status.busy": "2020-09-27T12:24:46.003970Z",
     "iopub.status.idle": "2020-09-27T12:24:46.018926Z",
     "shell.execute_reply": "2020-09-27T12:24:46.018428Z"
    },
    "papermill": {
     "duration": 0.063041,
     "end_time": "2020-09-27T12:24:46.019054",
     "exception": false,
     "start_time": "2020-09-27T12:24:45.956013",
     "status": "completed"
    },
    "tags": []
   },
   "outputs": [
    {
     "data": {
      "text/html": [
       "<div>\n",
       "<style scoped>\n",
       "    .dataframe tbody tr th:only-of-type {\n",
       "        vertical-align: middle;\n",
       "    }\n",
       "\n",
       "    .dataframe tbody tr th {\n",
       "        vertical-align: top;\n",
       "    }\n",
       "\n",
       "    .dataframe thead th {\n",
       "        text-align: right;\n",
       "    }\n",
       "</style>\n",
       "<table border=\"1\" class=\"dataframe\">\n",
       "  <thead>\n",
       "    <tr style=\"text-align: right;\">\n",
       "      <th></th>\n",
       "      <th>sample_date_string</th>\n",
       "      <th>shared_diagnoses</th>\n",
       "    </tr>\n",
       "  </thead>\n",
       "  <tbody>\n",
       "    <tr>\n",
       "      <th>0</th>\n",
       "      <td>2020-09-27</td>\n",
       "      <td>76</td>\n",
       "    </tr>\n",
       "    <tr>\n",
       "      <th>1</th>\n",
       "      <td>2020-09-26</td>\n",
       "      <td>110</td>\n",
       "    </tr>\n",
       "    <tr>\n",
       "      <th>2</th>\n",
       "      <td>2020-09-25</td>\n",
       "      <td>86</td>\n",
       "    </tr>\n",
       "    <tr>\n",
       "      <th>3</th>\n",
       "      <td>2020-09-24</td>\n",
       "      <td>89</td>\n",
       "    </tr>\n",
       "    <tr>\n",
       "      <th>4</th>\n",
       "      <td>2020-09-23</td>\n",
       "      <td>70</td>\n",
       "    </tr>\n",
       "  </tbody>\n",
       "</table>\n",
       "</div>"
      ],
      "text/plain": [
       "  sample_date_string  shared_diagnoses\n",
       "0         2020-09-27                76\n",
       "1         2020-09-26               110\n",
       "2         2020-09-25                86\n",
       "3         2020-09-24                89\n",
       "4         2020-09-23                70"
      ]
     },
     "execution_count": 26,
     "metadata": {},
     "output_type": "execute_result"
    }
   ],
   "source": [
    "estimated_shared_diagnoses_df.set_index(\"extraction_date\", inplace=True)\n",
    "estimated_shared_diagnoses_df[\"shared_diagnoses\"] = estimated_shared_diagnoses_df.apply(\n",
    "    lambda x: len(set(x.tek_list).difference(x.same_day_tek_list)), axis=1).copy()\n",
    "estimated_shared_diagnoses_df.reset_index(inplace=True)\n",
    "estimated_shared_diagnoses_df.rename(columns={\n",
    "    \"extraction_date\": \"sample_date_string\"}, inplace=True)\n",
    "estimated_shared_diagnoses_df = estimated_shared_diagnoses_df[[\"sample_date_string\", \"shared_diagnoses\"]]\n",
    "estimated_shared_diagnoses_df[\"sample_date_string\"] = estimated_shared_diagnoses_df.sample_date_string.dt.strftime(\"%Y-%m-%d\")\n",
    "estimated_shared_diagnoses_df.head()"
   ]
  },
  {
   "cell_type": "markdown",
   "metadata": {
    "papermill": {
     "duration": 0.042938,
     "end_time": "2020-09-27T12:24:46.103665",
     "exception": false,
     "start_time": "2020-09-27T12:24:46.060727",
     "status": "completed"
    },
    "pycharm": {
     "name": "#%% md\n"
    },
    "tags": []
   },
   "source": [
    "### Hourly New TEKs"
   ]
  },
  {
   "cell_type": "code",
   "execution_count": 27,
   "metadata": {
    "execution": {
     "iopub.execute_input": "2020-09-27T12:24:46.199868Z",
     "iopub.status.busy": "2020-09-27T12:24:46.198873Z",
     "iopub.status.idle": "2020-09-27T12:24:46.372322Z",
     "shell.execute_reply": "2020-09-27T12:24:46.373091Z"
    },
    "papermill": {
     "duration": 0.226344,
     "end_time": "2020-09-27T12:24:46.373344",
     "exception": false,
     "start_time": "2020-09-27T12:24:46.147000",
     "status": "completed"
    },
    "pycharm": {
     "name": "#%%\n"
    },
    "tags": []
   },
   "outputs": [
    {
     "data": {
      "text/html": [
       "<div>\n",
       "<style scoped>\n",
       "    .dataframe tbody tr th:only-of-type {\n",
       "        vertical-align: middle;\n",
       "    }\n",
       "\n",
       "    .dataframe tbody tr th {\n",
       "        vertical-align: top;\n",
       "    }\n",
       "\n",
       "    .dataframe thead th {\n",
       "        text-align: right;\n",
       "    }\n",
       "</style>\n",
       "<table border=\"1\" class=\"dataframe\">\n",
       "  <thead>\n",
       "    <tr style=\"text-align: right;\">\n",
       "      <th></th>\n",
       "      <th>extraction_date_with_hour</th>\n",
       "      <th>shared_teks_by_upload_date</th>\n",
       "    </tr>\n",
       "  </thead>\n",
       "  <tbody>\n",
       "    <tr>\n",
       "      <th>20</th>\n",
       "      <td>2020-09-27@08</td>\n",
       "      <td>61.0</td>\n",
       "    </tr>\n",
       "    <tr>\n",
       "      <th>21</th>\n",
       "      <td>2020-09-27@09</td>\n",
       "      <td>0.0</td>\n",
       "    </tr>\n",
       "    <tr>\n",
       "      <th>22</th>\n",
       "      <td>2020-09-27@10</td>\n",
       "      <td>83.0</td>\n",
       "    </tr>\n",
       "    <tr>\n",
       "      <th>23</th>\n",
       "      <td>2020-09-27@11</td>\n",
       "      <td>0.0</td>\n",
       "    </tr>\n",
       "    <tr>\n",
       "      <th>24</th>\n",
       "      <td>2020-09-27@12</td>\n",
       "      <td>48.0</td>\n",
       "    </tr>\n",
       "  </tbody>\n",
       "</table>\n",
       "</div>"
      ],
      "text/plain": [
       "   extraction_date_with_hour  shared_teks_by_upload_date\n",
       "20             2020-09-27@08                        61.0\n",
       "21             2020-09-27@09                         0.0\n",
       "22             2020-09-27@10                        83.0\n",
       "23             2020-09-27@11                         0.0\n",
       "24             2020-09-27@12                        48.0"
      ]
     },
     "execution_count": 27,
     "metadata": {},
     "output_type": "execute_result"
    }
   ],
   "source": [
    "hourly_extracted_teks_df = load_extracted_teks(\n",
    "    mode=\"Hourly\", region=spain_region_country_code, limit=25)\n",
    "hourly_extracted_teks_df.head()\n",
    "\n",
    "hourly_tek_list_df = hourly_extracted_teks_df.groupby(\"extraction_date_with_hour\").tek_list.apply(\n",
    "    lambda x: set(sum(x, []))).reset_index()\n",
    "hourly_tek_list_df = hourly_tek_list_df.set_index(\"extraction_date_with_hour\").sort_index(ascending=True)\n",
    "\n",
    "hourly_new_tek_df = hourly_tek_list_df.diff().tek_list.apply(\n",
    "    lambda x: len(x) if not pd.isna(x) else None).to_frame().reset_index()\n",
    "hourly_new_tek_df.rename(columns={\n",
    "    \"tek_list\": \"shared_teks_by_upload_date\"}, inplace=True)\n",
    "hourly_new_tek_df.tail()"
   ]
  },
  {
   "cell_type": "code",
   "execution_count": 28,
   "metadata": {
    "execution": {
     "iopub.execute_input": "2020-09-27T12:24:46.473855Z",
     "iopub.status.busy": "2020-09-27T12:24:46.473134Z",
     "iopub.status.idle": "2020-09-27T12:24:46.489746Z",
     "shell.execute_reply": "2020-09-27T12:24:46.489318Z"
    },
    "papermill": {
     "duration": 0.073821,
     "end_time": "2020-09-27T12:24:46.489874",
     "exception": false,
     "start_time": "2020-09-27T12:24:46.416053",
     "status": "completed"
    },
    "pycharm": {
     "name": "#%%\n"
    },
    "tags": []
   },
   "outputs": [
    {
     "data": {
      "text/html": [
       "<div>\n",
       "<style scoped>\n",
       "    .dataframe tbody tr th:only-of-type {\n",
       "        vertical-align: middle;\n",
       "    }\n",
       "\n",
       "    .dataframe tbody tr th {\n",
       "        vertical-align: top;\n",
       "    }\n",
       "\n",
       "    .dataframe thead th {\n",
       "        text-align: right;\n",
       "    }\n",
       "</style>\n",
       "<table border=\"1\" class=\"dataframe\">\n",
       "  <thead>\n",
       "    <tr style=\"text-align: right;\">\n",
       "      <th></th>\n",
       "      <th>extraction_date_with_hour</th>\n",
       "      <th>shared_diagnoses</th>\n",
       "    </tr>\n",
       "  </thead>\n",
       "  <tbody>\n",
       "    <tr>\n",
       "      <th>20</th>\n",
       "      <td>2020-09-27@08</td>\n",
       "      <td>15.0</td>\n",
       "    </tr>\n",
       "    <tr>\n",
       "      <th>21</th>\n",
       "      <td>2020-09-27@09</td>\n",
       "      <td>0.0</td>\n",
       "    </tr>\n",
       "    <tr>\n",
       "      <th>22</th>\n",
       "      <td>2020-09-27@10</td>\n",
       "      <td>15.0</td>\n",
       "    </tr>\n",
       "    <tr>\n",
       "      <th>23</th>\n",
       "      <td>2020-09-27@11</td>\n",
       "      <td>0.0</td>\n",
       "    </tr>\n",
       "    <tr>\n",
       "      <th>24</th>\n",
       "      <td>2020-09-27@12</td>\n",
       "      <td>9.0</td>\n",
       "    </tr>\n",
       "  </tbody>\n",
       "</table>\n",
       "</div>"
      ],
      "text/plain": [
       "   extraction_date_with_hour  shared_diagnoses\n",
       "20             2020-09-27@08              15.0\n",
       "21             2020-09-27@09               0.0\n",
       "22             2020-09-27@10              15.0\n",
       "23             2020-09-27@11               0.0\n",
       "24             2020-09-27@12               9.0"
      ]
     },
     "execution_count": 28,
     "metadata": {},
     "output_type": "execute_result"
    }
   ],
   "source": [
    "hourly_new_tek_devices_df = hourly_extracted_teks_df.copy()\n",
    "hourly_new_tek_devices_df[\"new_sample_extraction_date\"] = \\\n",
    "    pd.to_datetime(hourly_new_tek_devices_df.sample_date) + datetime.timedelta(1)\n",
    "hourly_new_tek_devices_df[\"extraction_date\"] = pd.to_datetime(hourly_new_tek_devices_df.extraction_date)\n",
    "\n",
    "hourly_new_tek_devices_df = hourly_new_tek_devices_df[\n",
    "    hourly_new_tek_devices_df.new_sample_extraction_date == hourly_new_tek_devices_df.extraction_date]\n",
    "\n",
    "hourly_new_tek_devices_df.set_index(\"extraction_date_with_hour\", inplace=True)\n",
    "hourly_new_tek_devices_df_ = pd.DataFrame()\n",
    "\n",
    "for i, chunk_df in hourly_new_tek_devices_df.groupby(\"extraction_date\"):\n",
    "    chunk_df = chunk_df.copy()\n",
    "    chunk_df.sort_index(inplace=True)\n",
    "    chunk_tek_count_df = chunk_df.tek_list.apply(lambda x: len(set(x)))\n",
    "    chunk_df = chunk_tek_count_df.diff().fillna(chunk_tek_count_df).to_frame()\n",
    "    hourly_new_tek_devices_df_ = hourly_new_tek_devices_df_.append(chunk_df)\n",
    "    \n",
    "hourly_new_tek_devices_df = hourly_new_tek_devices_df_\n",
    "hourly_new_tek_devices_df.reset_index(inplace=True)\n",
    "hourly_new_tek_devices_df.rename(columns={\n",
    "    \"tek_list\": \"shared_diagnoses\"}, inplace=True)\n",
    "hourly_new_tek_devices_df.tail()"
   ]
  },
  {
   "cell_type": "code",
   "execution_count": 29,
   "metadata": {
    "execution": {
     "iopub.execute_input": "2020-09-27T12:24:46.586595Z",
     "iopub.status.busy": "2020-09-27T12:24:46.586053Z",
     "iopub.status.idle": "2020-09-27T12:24:46.589291Z",
     "shell.execute_reply": "2020-09-27T12:24:46.588843Z"
    },
    "papermill": {
     "duration": 0.05735,
     "end_time": "2020-09-27T12:24:46.589420",
     "exception": false,
     "start_time": "2020-09-27T12:24:46.532070",
     "status": "completed"
    },
    "tags": []
   },
   "outputs": [
    {
     "data": {
      "text/html": [
       "<div>\n",
       "<style scoped>\n",
       "    .dataframe tbody tr th:only-of-type {\n",
       "        vertical-align: middle;\n",
       "    }\n",
       "\n",
       "    .dataframe tbody tr th {\n",
       "        vertical-align: top;\n",
       "    }\n",
       "\n",
       "    .dataframe thead th {\n",
       "        text-align: right;\n",
       "    }\n",
       "</style>\n",
       "<table border=\"1\" class=\"dataframe\">\n",
       "  <thead>\n",
       "    <tr style=\"text-align: right;\">\n",
       "      <th></th>\n",
       "      <th>extraction_date_with_hour</th>\n",
       "      <th>shared_teks_by_upload_date</th>\n",
       "      <th>shared_diagnoses</th>\n",
       "    </tr>\n",
       "    <tr>\n",
       "      <th>datetime_utc</th>\n",
       "      <th></th>\n",
       "      <th></th>\n",
       "      <th></th>\n",
       "    </tr>\n",
       "  </thead>\n",
       "  <tbody>\n",
       "    <tr>\n",
       "      <th>2020-09-27 08:00:00</th>\n",
       "      <td>2020-09-27@08</td>\n",
       "      <td>61.0</td>\n",
       "      <td>15.0</td>\n",
       "    </tr>\n",
       "    <tr>\n",
       "      <th>2020-09-27 09:00:00</th>\n",
       "      <td>2020-09-27@09</td>\n",
       "      <td>0.0</td>\n",
       "      <td>0.0</td>\n",
       "    </tr>\n",
       "    <tr>\n",
       "      <th>2020-09-27 10:00:00</th>\n",
       "      <td>2020-09-27@10</td>\n",
       "      <td>83.0</td>\n",
       "      <td>15.0</td>\n",
       "    </tr>\n",
       "    <tr>\n",
       "      <th>2020-09-27 11:00:00</th>\n",
       "      <td>2020-09-27@11</td>\n",
       "      <td>0.0</td>\n",
       "      <td>0.0</td>\n",
       "    </tr>\n",
       "    <tr>\n",
       "      <th>2020-09-27 12:00:00</th>\n",
       "      <td>2020-09-27@12</td>\n",
       "      <td>48.0</td>\n",
       "      <td>9.0</td>\n",
       "    </tr>\n",
       "  </tbody>\n",
       "</table>\n",
       "</div>"
      ],
      "text/plain": [
       "                    extraction_date_with_hour  shared_teks_by_upload_date  \\\n",
       "datetime_utc                                                                \n",
       "2020-09-27 08:00:00             2020-09-27@08                        61.0   \n",
       "2020-09-27 09:00:00             2020-09-27@09                         0.0   \n",
       "2020-09-27 10:00:00             2020-09-27@10                        83.0   \n",
       "2020-09-27 11:00:00             2020-09-27@11                         0.0   \n",
       "2020-09-27 12:00:00             2020-09-27@12                        48.0   \n",
       "\n",
       "                     shared_diagnoses  \n",
       "datetime_utc                           \n",
       "2020-09-27 08:00:00              15.0  \n",
       "2020-09-27 09:00:00               0.0  \n",
       "2020-09-27 10:00:00              15.0  \n",
       "2020-09-27 11:00:00               0.0  \n",
       "2020-09-27 12:00:00               9.0  "
      ]
     },
     "execution_count": 29,
     "metadata": {},
     "output_type": "execute_result"
    }
   ],
   "source": [
    "hourly_summary_df = hourly_new_tek_df.merge(\n",
    "    hourly_new_tek_devices_df, on=[\"extraction_date_with_hour\"], how=\"outer\")\n",
    "hourly_summary_df[\"datetime_utc\"] = pd.to_datetime(\n",
    "    hourly_summary_df.extraction_date_with_hour, format=\"%Y-%m-%d@%H\")\n",
    "hourly_summary_df.set_index(\"datetime_utc\", inplace=True)\n",
    "hourly_summary_df = hourly_summary_df.tail(-1)\n",
    "hourly_summary_df.tail()"
   ]
  },
  {
   "cell_type": "markdown",
   "metadata": {
    "execution": {
     "iopub.execute_input": "2020-08-30T22:30:16.982353Z",
     "iopub.status.busy": "2020-08-30T22:30:16.981676Z",
     "iopub.status.idle": "2020-08-30T22:30:16.984837Z",
     "shell.execute_reply": "2020-08-30T22:30:16.985366Z"
    },
    "papermill": {
     "duration": 0.043266,
     "end_time": "2020-09-27T12:24:46.677730",
     "exception": false,
     "start_time": "2020-09-27T12:24:46.634464",
     "status": "completed"
    },
    "pycharm": {
     "name": "#%% md\n"
    },
    "tags": []
   },
   "source": [
    "### Data Merge"
   ]
  },
  {
   "cell_type": "code",
   "execution_count": 30,
   "metadata": {
    "collapsed": false,
    "execution": {
     "iopub.execute_input": "2020-09-27T12:24:46.783682Z",
     "iopub.status.busy": "2020-09-27T12:24:46.783110Z",
     "iopub.status.idle": "2020-09-27T12:24:46.785613Z",
     "shell.execute_reply": "2020-09-27T12:24:46.786035Z"
    },
    "papermill": {
     "duration": 0.06428,
     "end_time": "2020-09-27T12:24:46.786189",
     "exception": false,
     "start_time": "2020-09-27T12:24:46.721909",
     "status": "completed"
    },
    "pycharm": {
     "name": "#%%\n"
    },
    "tags": []
   },
   "outputs": [
    {
     "data": {
      "text/html": [
       "<div>\n",
       "<style scoped>\n",
       "    .dataframe tbody tr th:only-of-type {\n",
       "        vertical-align: middle;\n",
       "    }\n",
       "\n",
       "    .dataframe tbody tr th {\n",
       "        vertical-align: top;\n",
       "    }\n",
       "\n",
       "    .dataframe thead th {\n",
       "        text-align: right;\n",
       "    }\n",
       "</style>\n",
       "<table border=\"1\" class=\"dataframe\">\n",
       "  <thead>\n",
       "    <tr style=\"text-align: right;\">\n",
       "      <th></th>\n",
       "      <th>sample_date_string</th>\n",
       "      <th>shared_teks_by_generation_date</th>\n",
       "      <th>shared_teks_by_upload_date</th>\n",
       "    </tr>\n",
       "  </thead>\n",
       "  <tbody>\n",
       "    <tr>\n",
       "      <th>0</th>\n",
       "      <td>2020-09-27</td>\n",
       "      <td>46</td>\n",
       "      <td>250.0</td>\n",
       "    </tr>\n",
       "    <tr>\n",
       "      <th>1</th>\n",
       "      <td>2020-09-26</td>\n",
       "      <td>155</td>\n",
       "      <td>448.0</td>\n",
       "    </tr>\n",
       "    <tr>\n",
       "      <th>2</th>\n",
       "      <td>2020-09-25</td>\n",
       "      <td>162</td>\n",
       "      <td>306.0</td>\n",
       "    </tr>\n",
       "    <tr>\n",
       "      <th>3</th>\n",
       "      <td>2020-09-24</td>\n",
       "      <td>201</td>\n",
       "      <td>289.0</td>\n",
       "    </tr>\n",
       "    <tr>\n",
       "      <th>4</th>\n",
       "      <td>2020-09-23</td>\n",
       "      <td>241</td>\n",
       "      <td>267.0</td>\n",
       "    </tr>\n",
       "  </tbody>\n",
       "</table>\n",
       "</div>"
      ],
      "text/plain": [
       "  sample_date_string  shared_teks_by_generation_date  \\\n",
       "0         2020-09-27                              46   \n",
       "1         2020-09-26                             155   \n",
       "2         2020-09-25                             162   \n",
       "3         2020-09-24                             201   \n",
       "4         2020-09-23                             241   \n",
       "\n",
       "   shared_teks_by_upload_date  \n",
       "0                       250.0  \n",
       "1                       448.0  \n",
       "2                       306.0  \n",
       "3                       289.0  \n",
       "4                       267.0  "
      ]
     },
     "execution_count": 30,
     "metadata": {},
     "output_type": "execute_result"
    }
   ],
   "source": [
    "result_summary_df = exposure_keys_summary_df.merge(\n",
    "    new_tek_df, on=[\"sample_date_string\"], how=\"outer\")\n",
    "result_summary_df.head()"
   ]
  },
  {
   "cell_type": "code",
   "execution_count": 31,
   "metadata": {
    "collapsed": false,
    "execution": {
     "iopub.execute_input": "2020-09-27T12:24:47.244508Z",
     "iopub.status.busy": "2020-09-27T12:24:47.243952Z",
     "iopub.status.idle": "2020-09-27T12:24:47.247049Z",
     "shell.execute_reply": "2020-09-27T12:24:47.247590Z"
    },
    "papermill": {
     "duration": 0.172329,
     "end_time": "2020-09-27T12:24:47.247758",
     "exception": false,
     "start_time": "2020-09-27T12:24:47.075429",
     "status": "completed"
    },
    "pycharm": {
     "name": "#%%\n"
    },
    "tags": []
   },
   "outputs": [
    {
     "data": {
      "text/html": [
       "<div>\n",
       "<style scoped>\n",
       "    .dataframe tbody tr th:only-of-type {\n",
       "        vertical-align: middle;\n",
       "    }\n",
       "\n",
       "    .dataframe tbody tr th {\n",
       "        vertical-align: top;\n",
       "    }\n",
       "\n",
       "    .dataframe thead th {\n",
       "        text-align: right;\n",
       "    }\n",
       "</style>\n",
       "<table border=\"1\" class=\"dataframe\">\n",
       "  <thead>\n",
       "    <tr style=\"text-align: right;\">\n",
       "      <th></th>\n",
       "      <th>sample_date_string</th>\n",
       "      <th>shared_teks_by_generation_date</th>\n",
       "      <th>shared_teks_by_upload_date</th>\n",
       "      <th>shared_teks_uploaded_on_generation_date</th>\n",
       "    </tr>\n",
       "  </thead>\n",
       "  <tbody>\n",
       "    <tr>\n",
       "      <th>0</th>\n",
       "      <td>2020-09-27</td>\n",
       "      <td>46</td>\n",
       "      <td>250.0</td>\n",
       "      <td>46.0</td>\n",
       "    </tr>\n",
       "    <tr>\n",
       "      <th>1</th>\n",
       "      <td>2020-09-26</td>\n",
       "      <td>155</td>\n",
       "      <td>448.0</td>\n",
       "      <td>79.0</td>\n",
       "    </tr>\n",
       "    <tr>\n",
       "      <th>2</th>\n",
       "      <td>2020-09-25</td>\n",
       "      <td>162</td>\n",
       "      <td>306.0</td>\n",
       "      <td>14.0</td>\n",
       "    </tr>\n",
       "    <tr>\n",
       "      <th>3</th>\n",
       "      <td>2020-09-24</td>\n",
       "      <td>201</td>\n",
       "      <td>289.0</td>\n",
       "      <td>17.0</td>\n",
       "    </tr>\n",
       "    <tr>\n",
       "      <th>4</th>\n",
       "      <td>2020-09-23</td>\n",
       "      <td>241</td>\n",
       "      <td>267.0</td>\n",
       "      <td>4.0</td>\n",
       "    </tr>\n",
       "  </tbody>\n",
       "</table>\n",
       "</div>"
      ],
      "text/plain": [
       "  sample_date_string  shared_teks_by_generation_date  \\\n",
       "0         2020-09-27                              46   \n",
       "1         2020-09-26                             155   \n",
       "2         2020-09-25                             162   \n",
       "3         2020-09-24                             201   \n",
       "4         2020-09-23                             241   \n",
       "\n",
       "   shared_teks_by_upload_date  shared_teks_uploaded_on_generation_date  \n",
       "0                       250.0                                     46.0  \n",
       "1                       448.0                                     79.0  \n",
       "2                       306.0                                     14.0  \n",
       "3                       289.0                                     17.0  \n",
       "4                       267.0                                      4.0  "
      ]
     },
     "execution_count": 31,
     "metadata": {},
     "output_type": "execute_result"
    }
   ],
   "source": [
    "result_summary_df = result_summary_df.merge(\n",
    "    shared_teks_uploaded_on_generation_date_df, on=[\"sample_date_string\"], how=\"outer\")\n",
    "result_summary_df.head()"
   ]
  },
  {
   "cell_type": "code",
   "execution_count": 32,
   "metadata": {
    "execution": {
     "iopub.execute_input": "2020-09-27T12:24:47.377287Z",
     "iopub.status.busy": "2020-09-27T12:24:47.376715Z",
     "iopub.status.idle": "2020-09-27T12:24:47.380027Z",
     "shell.execute_reply": "2020-09-27T12:24:47.379583Z"
    },
    "papermill": {
     "duration": 0.087895,
     "end_time": "2020-09-27T12:24:47.380156",
     "exception": false,
     "start_time": "2020-09-27T12:24:47.292261",
     "status": "completed"
    },
    "tags": []
   },
   "outputs": [
    {
     "data": {
      "text/html": [
       "<div>\n",
       "<style scoped>\n",
       "    .dataframe tbody tr th:only-of-type {\n",
       "        vertical-align: middle;\n",
       "    }\n",
       "\n",
       "    .dataframe tbody tr th {\n",
       "        vertical-align: top;\n",
       "    }\n",
       "\n",
       "    .dataframe thead th {\n",
       "        text-align: right;\n",
       "    }\n",
       "</style>\n",
       "<table border=\"1\" class=\"dataframe\">\n",
       "  <thead>\n",
       "    <tr style=\"text-align: right;\">\n",
       "      <th></th>\n",
       "      <th>sample_date_string</th>\n",
       "      <th>shared_teks_by_generation_date</th>\n",
       "      <th>shared_teks_by_upload_date</th>\n",
       "      <th>shared_teks_uploaded_on_generation_date</th>\n",
       "      <th>shared_diagnoses</th>\n",
       "    </tr>\n",
       "  </thead>\n",
       "  <tbody>\n",
       "    <tr>\n",
       "      <th>0</th>\n",
       "      <td>2020-09-27</td>\n",
       "      <td>46</td>\n",
       "      <td>250.0</td>\n",
       "      <td>46.0</td>\n",
       "      <td>76.0</td>\n",
       "    </tr>\n",
       "    <tr>\n",
       "      <th>1</th>\n",
       "      <td>2020-09-26</td>\n",
       "      <td>155</td>\n",
       "      <td>448.0</td>\n",
       "      <td>79.0</td>\n",
       "      <td>110.0</td>\n",
       "    </tr>\n",
       "    <tr>\n",
       "      <th>2</th>\n",
       "      <td>2020-09-25</td>\n",
       "      <td>162</td>\n",
       "      <td>306.0</td>\n",
       "      <td>14.0</td>\n",
       "      <td>86.0</td>\n",
       "    </tr>\n",
       "    <tr>\n",
       "      <th>3</th>\n",
       "      <td>2020-09-24</td>\n",
       "      <td>201</td>\n",
       "      <td>289.0</td>\n",
       "      <td>17.0</td>\n",
       "      <td>89.0</td>\n",
       "    </tr>\n",
       "    <tr>\n",
       "      <th>4</th>\n",
       "      <td>2020-09-23</td>\n",
       "      <td>241</td>\n",
       "      <td>267.0</td>\n",
       "      <td>4.0</td>\n",
       "      <td>70.0</td>\n",
       "    </tr>\n",
       "  </tbody>\n",
       "</table>\n",
       "</div>"
      ],
      "text/plain": [
       "  sample_date_string  shared_teks_by_generation_date  \\\n",
       "0         2020-09-27                              46   \n",
       "1         2020-09-26                             155   \n",
       "2         2020-09-25                             162   \n",
       "3         2020-09-24                             201   \n",
       "4         2020-09-23                             241   \n",
       "\n",
       "   shared_teks_by_upload_date  shared_teks_uploaded_on_generation_date  \\\n",
       "0                       250.0                                     46.0   \n",
       "1                       448.0                                     79.0   \n",
       "2                       306.0                                     14.0   \n",
       "3                       289.0                                     17.0   \n",
       "4                       267.0                                      4.0   \n",
       "\n",
       "   shared_diagnoses  \n",
       "0              76.0  \n",
       "1             110.0  \n",
       "2              86.0  \n",
       "3              89.0  \n",
       "4              70.0  "
      ]
     },
     "execution_count": 32,
     "metadata": {},
     "output_type": "execute_result"
    }
   ],
   "source": [
    "result_summary_df = result_summary_df.merge(\n",
    "    estimated_shared_diagnoses_df, on=[\"sample_date_string\"], how=\"outer\")\n",
    "result_summary_df.head()"
   ]
  },
  {
   "cell_type": "code",
   "execution_count": 33,
   "metadata": {
    "execution": {
     "iopub.execute_input": "2020-09-27T12:24:47.479762Z",
     "iopub.status.busy": "2020-09-27T12:24:47.479002Z",
     "iopub.status.idle": "2020-09-27T12:24:47.490257Z",
     "shell.execute_reply": "2020-09-27T12:24:47.490724Z"
    },
    "papermill": {
     "duration": 0.064561,
     "end_time": "2020-09-27T12:24:47.490910",
     "exception": false,
     "start_time": "2020-09-27T12:24:47.426349",
     "status": "completed"
    },
    "pycharm": {
     "name": "#%%\n"
    },
    "tags": []
   },
   "outputs": [
    {
     "data": {
      "text/html": [
       "<div>\n",
       "<style scoped>\n",
       "    .dataframe tbody tr th:only-of-type {\n",
       "        vertical-align: middle;\n",
       "    }\n",
       "\n",
       "    .dataframe tbody tr th {\n",
       "        vertical-align: top;\n",
       "    }\n",
       "\n",
       "    .dataframe thead th {\n",
       "        text-align: right;\n",
       "    }\n",
       "</style>\n",
       "<table border=\"1\" class=\"dataframe\">\n",
       "  <thead>\n",
       "    <tr style=\"text-align: right;\">\n",
       "      <th></th>\n",
       "      <th>sample_date_string</th>\n",
       "      <th>cumulative_cases</th>\n",
       "      <th>new_cases</th>\n",
       "      <th>covid_cases</th>\n",
       "      <th>shared_teks_by_generation_date</th>\n",
       "      <th>shared_teks_by_upload_date</th>\n",
       "      <th>shared_teks_uploaded_on_generation_date</th>\n",
       "      <th>shared_diagnoses</th>\n",
       "    </tr>\n",
       "  </thead>\n",
       "  <tbody>\n",
       "    <tr>\n",
       "      <th>0</th>\n",
       "      <td>2020-09-07</td>\n",
       "      <td>525549.0</td>\n",
       "      <td>26560.0</td>\n",
       "      <td>8956</td>\n",
       "      <td>58</td>\n",
       "      <td>52.0</td>\n",
       "      <td>NaN</td>\n",
       "      <td>22.0</td>\n",
       "    </tr>\n",
       "    <tr>\n",
       "      <th>1</th>\n",
       "      <td>2020-09-08</td>\n",
       "      <td>534513.0</td>\n",
       "      <td>8964.0</td>\n",
       "      <td>9077</td>\n",
       "      <td>61</td>\n",
       "      <td>44.0</td>\n",
       "      <td>NaN</td>\n",
       "      <td>18.0</td>\n",
       "    </tr>\n",
       "    <tr>\n",
       "      <th>2</th>\n",
       "      <td>2020-09-09</td>\n",
       "      <td>543379.0</td>\n",
       "      <td>8866.0</td>\n",
       "      <td>9118</td>\n",
       "      <td>60</td>\n",
       "      <td>67.0</td>\n",
       "      <td>NaN</td>\n",
       "      <td>21.0</td>\n",
       "    </tr>\n",
       "    <tr>\n",
       "      <th>3</th>\n",
       "      <td>2020-09-10</td>\n",
       "      <td>554143.0</td>\n",
       "      <td>10764.0</td>\n",
       "      <td>9376</td>\n",
       "      <td>68</td>\n",
       "      <td>45.0</td>\n",
       "      <td>NaN</td>\n",
       "      <td>15.0</td>\n",
       "    </tr>\n",
       "    <tr>\n",
       "      <th>4</th>\n",
       "      <td>2020-09-11</td>\n",
       "      <td>566326.0</td>\n",
       "      <td>12183.0</td>\n",
       "      <td>9620</td>\n",
       "      <td>75</td>\n",
       "      <td>46.0</td>\n",
       "      <td>NaN</td>\n",
       "      <td>19.0</td>\n",
       "    </tr>\n",
       "  </tbody>\n",
       "</table>\n",
       "</div>"
      ],
      "text/plain": [
       "  sample_date_string  cumulative_cases  new_cases  covid_cases  \\\n",
       "0         2020-09-07          525549.0    26560.0         8956   \n",
       "1         2020-09-08          534513.0     8964.0         9077   \n",
       "2         2020-09-09          543379.0     8866.0         9118   \n",
       "3         2020-09-10          554143.0    10764.0         9376   \n",
       "4         2020-09-11          566326.0    12183.0         9620   \n",
       "\n",
       "   shared_teks_by_generation_date  shared_teks_by_upload_date  \\\n",
       "0                              58                        52.0   \n",
       "1                              61                        44.0   \n",
       "2                              60                        67.0   \n",
       "3                              68                        45.0   \n",
       "4                              75                        46.0   \n",
       "\n",
       "   shared_teks_uploaded_on_generation_date  shared_diagnoses  \n",
       "0                                      NaN              22.0  \n",
       "1                                      NaN              18.0  \n",
       "2                                      NaN              21.0  \n",
       "3                                      NaN              15.0  \n",
       "4                                      NaN              19.0  "
      ]
     },
     "execution_count": 33,
     "metadata": {},
     "output_type": "execute_result"
    }
   ],
   "source": [
    "result_summary_df = confirmed_df.tail(daily_summary_days).merge(\n",
    "    result_summary_df, on=[\"sample_date_string\"], how=\"left\")\n",
    "result_summary_df.head()"
   ]
  },
  {
   "cell_type": "code",
   "execution_count": 34,
   "metadata": {
    "collapsed": false,
    "execution": {
     "iopub.execute_input": "2020-09-27T12:24:47.606908Z",
     "iopub.status.busy": "2020-09-27T12:24:47.598549Z",
     "iopub.status.idle": "2020-09-27T12:24:47.609541Z",
     "shell.execute_reply": "2020-09-27T12:24:47.610300Z"
    },
    "papermill": {
     "duration": 0.074565,
     "end_time": "2020-09-27T12:24:47.610549",
     "exception": false,
     "start_time": "2020-09-27T12:24:47.535984",
     "status": "completed"
    },
    "pycharm": {
     "name": "#%%\n"
    },
    "tags": []
   },
   "outputs": [
    {
     "data": {
      "text/html": [
       "<div>\n",
       "<style scoped>\n",
       "    .dataframe tbody tr th:only-of-type {\n",
       "        vertical-align: middle;\n",
       "    }\n",
       "\n",
       "    .dataframe tbody tr th {\n",
       "        vertical-align: top;\n",
       "    }\n",
       "\n",
       "    .dataframe thead th {\n",
       "        text-align: right;\n",
       "    }\n",
       "</style>\n",
       "<table border=\"1\" class=\"dataframe\">\n",
       "  <thead>\n",
       "    <tr style=\"text-align: right;\">\n",
       "      <th></th>\n",
       "      <th>cumulative_cases</th>\n",
       "      <th>new_cases</th>\n",
       "      <th>covid_cases</th>\n",
       "      <th>shared_teks_by_generation_date</th>\n",
       "      <th>shared_teks_by_upload_date</th>\n",
       "      <th>shared_teks_uploaded_on_generation_date</th>\n",
       "      <th>shared_diagnoses</th>\n",
       "    </tr>\n",
       "    <tr>\n",
       "      <th>sample_date</th>\n",
       "      <th></th>\n",
       "      <th></th>\n",
       "      <th></th>\n",
       "      <th></th>\n",
       "      <th></th>\n",
       "      <th></th>\n",
       "      <th></th>\n",
       "    </tr>\n",
       "  </thead>\n",
       "  <tbody>\n",
       "    <tr>\n",
       "      <th>2020-09-27</th>\n",
       "      <td>727401.0</td>\n",
       "      <td>10920.0</td>\n",
       "      <td>10920</td>\n",
       "      <td>46</td>\n",
       "      <td>250.0</td>\n",
       "      <td>46.0</td>\n",
       "      <td>76.0</td>\n",
       "    </tr>\n",
       "    <tr>\n",
       "      <th>2020-09-26</th>\n",
       "      <td>716481.0</td>\n",
       "      <td>0.0</td>\n",
       "      <td>10920</td>\n",
       "      <td>155</td>\n",
       "      <td>448.0</td>\n",
       "      <td>79.0</td>\n",
       "      <td>110.0</td>\n",
       "    </tr>\n",
       "    <tr>\n",
       "      <th>2020-09-25</th>\n",
       "      <td>716481.0</td>\n",
       "      <td>12272.0</td>\n",
       "      <td>10920</td>\n",
       "      <td>162</td>\n",
       "      <td>306.0</td>\n",
       "      <td>14.0</td>\n",
       "      <td>86.0</td>\n",
       "    </tr>\n",
       "    <tr>\n",
       "      <th>2020-09-24</th>\n",
       "      <td>704209.0</td>\n",
       "      <td>10653.0</td>\n",
       "      <td>11223</td>\n",
       "      <td>201</td>\n",
       "      <td>289.0</td>\n",
       "      <td>17.0</td>\n",
       "      <td>89.0</td>\n",
       "    </tr>\n",
       "    <tr>\n",
       "      <th>2020-09-23</th>\n",
       "      <td>693556.0</td>\n",
       "      <td>11289.0</td>\n",
       "      <td>11314</td>\n",
       "      <td>241</td>\n",
       "      <td>267.0</td>\n",
       "      <td>4.0</td>\n",
       "      <td>70.0</td>\n",
       "    </tr>\n",
       "  </tbody>\n",
       "</table>\n",
       "</div>"
      ],
      "text/plain": [
       "             cumulative_cases  new_cases  covid_cases  \\\n",
       "sample_date                                             \n",
       "2020-09-27           727401.0    10920.0        10920   \n",
       "2020-09-26           716481.0        0.0        10920   \n",
       "2020-09-25           716481.0    12272.0        10920   \n",
       "2020-09-24           704209.0    10653.0        11223   \n",
       "2020-09-23           693556.0    11289.0        11314   \n",
       "\n",
       "             shared_teks_by_generation_date  shared_teks_by_upload_date  \\\n",
       "sample_date                                                               \n",
       "2020-09-27                               46                       250.0   \n",
       "2020-09-26                              155                       448.0   \n",
       "2020-09-25                              162                       306.0   \n",
       "2020-09-24                              201                       289.0   \n",
       "2020-09-23                              241                       267.0   \n",
       "\n",
       "             shared_teks_uploaded_on_generation_date  shared_diagnoses  \n",
       "sample_date                                                             \n",
       "2020-09-27                                      46.0              76.0  \n",
       "2020-09-26                                      79.0             110.0  \n",
       "2020-09-25                                      14.0              86.0  \n",
       "2020-09-24                                      17.0              89.0  \n",
       "2020-09-23                                       4.0              70.0  "
      ]
     },
     "execution_count": 34,
     "metadata": {},
     "output_type": "execute_result"
    }
   ],
   "source": [
    "result_summary_df[\"sample_date\"] = pd.to_datetime(result_summary_df.sample_date_string)\n",
    "result_summary_df.set_index(\"sample_date\", inplace=True)\n",
    "result_summary_df.drop(columns=[\"sample_date_string\"], inplace=True)\n",
    "result_summary_df.sort_index(ascending=False, inplace=True)\n",
    "result_summary_df.head()"
   ]
  },
  {
   "cell_type": "code",
   "execution_count": 35,
   "metadata": {
    "execution": {
     "iopub.execute_input": "2020-09-27T12:24:47.726722Z",
     "iopub.status.busy": "2020-09-27T12:24:47.726148Z",
     "iopub.status.idle": "2020-09-27T12:24:47.728282Z",
     "shell.execute_reply": "2020-09-27T12:24:47.728798Z"
    },
    "papermill": {
     "duration": 0.065497,
     "end_time": "2020-09-27T12:24:47.728948",
     "exception": false,
     "start_time": "2020-09-27T12:24:47.663451",
     "status": "completed"
    },
    "pycharm": {
     "name": "#%%\n"
    },
    "tags": []
   },
   "outputs": [
    {
     "data": {
      "text/html": [
       "<div>\n",
       "<style scoped>\n",
       "    .dataframe tbody tr th:only-of-type {\n",
       "        vertical-align: middle;\n",
       "    }\n",
       "\n",
       "    .dataframe tbody tr th {\n",
       "        vertical-align: top;\n",
       "    }\n",
       "\n",
       "    .dataframe thead th {\n",
       "        text-align: right;\n",
       "    }\n",
       "</style>\n",
       "<table border=\"1\" class=\"dataframe\">\n",
       "  <thead>\n",
       "    <tr style=\"text-align: right;\">\n",
       "      <th></th>\n",
       "      <th>cumulative_cases</th>\n",
       "      <th>new_cases</th>\n",
       "      <th>covid_cases</th>\n",
       "      <th>shared_teks_by_generation_date</th>\n",
       "      <th>shared_teks_by_upload_date</th>\n",
       "      <th>shared_teks_uploaded_on_generation_date</th>\n",
       "      <th>shared_diagnoses</th>\n",
       "      <th>teks_per_shared_diagnosis</th>\n",
       "      <th>shared_diagnoses_per_covid_case</th>\n",
       "    </tr>\n",
       "    <tr>\n",
       "      <th>sample_date</th>\n",
       "      <th></th>\n",
       "      <th></th>\n",
       "      <th></th>\n",
       "      <th></th>\n",
       "      <th></th>\n",
       "      <th></th>\n",
       "      <th></th>\n",
       "      <th></th>\n",
       "      <th></th>\n",
       "    </tr>\n",
       "  </thead>\n",
       "  <tbody>\n",
       "    <tr>\n",
       "      <th>2020-09-27</th>\n",
       "      <td>727401</td>\n",
       "      <td>10920</td>\n",
       "      <td>10920</td>\n",
       "      <td>46</td>\n",
       "      <td>250</td>\n",
       "      <td>46</td>\n",
       "      <td>76</td>\n",
       "      <td>3.289474</td>\n",
       "      <td>0.006960</td>\n",
       "    </tr>\n",
       "    <tr>\n",
       "      <th>2020-09-26</th>\n",
       "      <td>716481</td>\n",
       "      <td>0</td>\n",
       "      <td>10920</td>\n",
       "      <td>155</td>\n",
       "      <td>448</td>\n",
       "      <td>79</td>\n",
       "      <td>110</td>\n",
       "      <td>4.072727</td>\n",
       "      <td>0.010073</td>\n",
       "    </tr>\n",
       "    <tr>\n",
       "      <th>2020-09-25</th>\n",
       "      <td>716481</td>\n",
       "      <td>12272</td>\n",
       "      <td>10920</td>\n",
       "      <td>162</td>\n",
       "      <td>306</td>\n",
       "      <td>14</td>\n",
       "      <td>86</td>\n",
       "      <td>3.558140</td>\n",
       "      <td>0.007875</td>\n",
       "    </tr>\n",
       "    <tr>\n",
       "      <th>2020-09-24</th>\n",
       "      <td>704209</td>\n",
       "      <td>10653</td>\n",
       "      <td>11223</td>\n",
       "      <td>201</td>\n",
       "      <td>289</td>\n",
       "      <td>17</td>\n",
       "      <td>89</td>\n",
       "      <td>3.247191</td>\n",
       "      <td>0.007930</td>\n",
       "    </tr>\n",
       "    <tr>\n",
       "      <th>2020-09-23</th>\n",
       "      <td>693556</td>\n",
       "      <td>11289</td>\n",
       "      <td>11314</td>\n",
       "      <td>241</td>\n",
       "      <td>267</td>\n",
       "      <td>4</td>\n",
       "      <td>70</td>\n",
       "      <td>3.814286</td>\n",
       "      <td>0.006187</td>\n",
       "    </tr>\n",
       "    <tr>\n",
       "      <th>2020-09-22</th>\n",
       "      <td>682267</td>\n",
       "      <td>10799</td>\n",
       "      <td>11300</td>\n",
       "      <td>255</td>\n",
       "      <td>148</td>\n",
       "      <td>0</td>\n",
       "      <td>55</td>\n",
       "      <td>2.690909</td>\n",
       "      <td>0.004867</td>\n",
       "    </tr>\n",
       "    <tr>\n",
       "      <th>2020-09-21</th>\n",
       "      <td>671468</td>\n",
       "      <td>31428</td>\n",
       "      <td>11105</td>\n",
       "      <td>268</td>\n",
       "      <td>190</td>\n",
       "      <td>0</td>\n",
       "      <td>45</td>\n",
       "      <td>4.222222</td>\n",
       "      <td>0.004052</td>\n",
       "    </tr>\n",
       "    <tr>\n",
       "      <th>2020-09-20</th>\n",
       "      <td>640040</td>\n",
       "      <td>0</td>\n",
       "      <td>10531</td>\n",
       "      <td>218</td>\n",
       "      <td>116</td>\n",
       "      <td>0</td>\n",
       "      <td>45</td>\n",
       "      <td>2.577778</td>\n",
       "      <td>0.004273</td>\n",
       "    </tr>\n",
       "    <tr>\n",
       "      <th>2020-09-19</th>\n",
       "      <td>640040</td>\n",
       "      <td>0</td>\n",
       "      <td>10531</td>\n",
       "      <td>203</td>\n",
       "      <td>90</td>\n",
       "      <td>2</td>\n",
       "      <td>39</td>\n",
       "      <td>2.307692</td>\n",
       "      <td>0.003703</td>\n",
       "    </tr>\n",
       "    <tr>\n",
       "      <th>2020-09-18</th>\n",
       "      <td>640040</td>\n",
       "      <td>14389</td>\n",
       "      <td>10531</td>\n",
       "      <td>165</td>\n",
       "      <td>138</td>\n",
       "      <td>1</td>\n",
       "      <td>52</td>\n",
       "      <td>2.653846</td>\n",
       "      <td>0.004938</td>\n",
       "    </tr>\n",
       "    <tr>\n",
       "      <th>2020-09-17</th>\n",
       "      <td>625651</td>\n",
       "      <td>11291</td>\n",
       "      <td>10215</td>\n",
       "      <td>139</td>\n",
       "      <td>63</td>\n",
       "      <td>0</td>\n",
       "      <td>29</td>\n",
       "      <td>2.172414</td>\n",
       "      <td>0.002839</td>\n",
       "    </tr>\n",
       "    <tr>\n",
       "      <th>2020-09-16</th>\n",
       "      <td>614360</td>\n",
       "      <td>11193</td>\n",
       "      <td>10140</td>\n",
       "      <td>119</td>\n",
       "      <td>62</td>\n",
       "      <td>0</td>\n",
       "      <td>23</td>\n",
       "      <td>2.695652</td>\n",
       "      <td>0.002268</td>\n",
       "    </tr>\n",
       "    <tr>\n",
       "      <th>2020-09-15</th>\n",
       "      <td>603167</td>\n",
       "      <td>9437</td>\n",
       "      <td>9808</td>\n",
       "      <td>82</td>\n",
       "      <td>58</td>\n",
       "      <td>0</td>\n",
       "      <td>23</td>\n",
       "      <td>2.521739</td>\n",
       "      <td>0.002345</td>\n",
       "    </tr>\n",
       "    <tr>\n",
       "      <th>2020-09-14</th>\n",
       "      <td>593730</td>\n",
       "      <td>27404</td>\n",
       "      <td>9740</td>\n",
       "      <td>73</td>\n",
       "      <td>61</td>\n",
       "      <td>0</td>\n",
       "      <td>28</td>\n",
       "      <td>2.178571</td>\n",
       "      <td>0.002875</td>\n",
       "    </tr>\n",
       "  </tbody>\n",
       "</table>\n",
       "</div>"
      ],
      "text/plain": [
       "             cumulative_cases  new_cases  covid_cases  \\\n",
       "sample_date                                             \n",
       "2020-09-27             727401      10920        10920   \n",
       "2020-09-26             716481          0        10920   \n",
       "2020-09-25             716481      12272        10920   \n",
       "2020-09-24             704209      10653        11223   \n",
       "2020-09-23             693556      11289        11314   \n",
       "2020-09-22             682267      10799        11300   \n",
       "2020-09-21             671468      31428        11105   \n",
       "2020-09-20             640040          0        10531   \n",
       "2020-09-19             640040          0        10531   \n",
       "2020-09-18             640040      14389        10531   \n",
       "2020-09-17             625651      11291        10215   \n",
       "2020-09-16             614360      11193        10140   \n",
       "2020-09-15             603167       9437         9808   \n",
       "2020-09-14             593730      27404         9740   \n",
       "\n",
       "             shared_teks_by_generation_date  shared_teks_by_upload_date  \\\n",
       "sample_date                                                               \n",
       "2020-09-27                               46                         250   \n",
       "2020-09-26                              155                         448   \n",
       "2020-09-25                              162                         306   \n",
       "2020-09-24                              201                         289   \n",
       "2020-09-23                              241                         267   \n",
       "2020-09-22                              255                         148   \n",
       "2020-09-21                              268                         190   \n",
       "2020-09-20                              218                         116   \n",
       "2020-09-19                              203                          90   \n",
       "2020-09-18                              165                         138   \n",
       "2020-09-17                              139                          63   \n",
       "2020-09-16                              119                          62   \n",
       "2020-09-15                               82                          58   \n",
       "2020-09-14                               73                          61   \n",
       "\n",
       "             shared_teks_uploaded_on_generation_date  shared_diagnoses  \\\n",
       "sample_date                                                              \n",
       "2020-09-27                                        46                76   \n",
       "2020-09-26                                        79               110   \n",
       "2020-09-25                                        14                86   \n",
       "2020-09-24                                        17                89   \n",
       "2020-09-23                                         4                70   \n",
       "2020-09-22                                         0                55   \n",
       "2020-09-21                                         0                45   \n",
       "2020-09-20                                         0                45   \n",
       "2020-09-19                                         2                39   \n",
       "2020-09-18                                         1                52   \n",
       "2020-09-17                                         0                29   \n",
       "2020-09-16                                         0                23   \n",
       "2020-09-15                                         0                23   \n",
       "2020-09-14                                         0                28   \n",
       "\n",
       "             teks_per_shared_diagnosis  shared_diagnoses_per_covid_case  \n",
       "sample_date                                                              \n",
       "2020-09-27                    3.289474                         0.006960  \n",
       "2020-09-26                    4.072727                         0.010073  \n",
       "2020-09-25                    3.558140                         0.007875  \n",
       "2020-09-24                    3.247191                         0.007930  \n",
       "2020-09-23                    3.814286                         0.006187  \n",
       "2020-09-22                    2.690909                         0.004867  \n",
       "2020-09-21                    4.222222                         0.004052  \n",
       "2020-09-20                    2.577778                         0.004273  \n",
       "2020-09-19                    2.307692                         0.003703  \n",
       "2020-09-18                    2.653846                         0.004938  \n",
       "2020-09-17                    2.172414                         0.002839  \n",
       "2020-09-16                    2.695652                         0.002268  \n",
       "2020-09-15                    2.521739                         0.002345  \n",
       "2020-09-14                    2.178571                         0.002875  "
      ]
     },
     "execution_count": 35,
     "metadata": {},
     "output_type": "execute_result"
    }
   ],
   "source": [
    "result_summary_df = result_summary_df.fillna(0).astype(int)\n",
    "result_summary_df[\"teks_per_shared_diagnosis\"] = \\\n",
    "    result_summary_df.shared_teks_by_upload_date / result_summary_df.shared_diagnoses\n",
    "result_summary_df[\"shared_diagnoses_per_covid_case\"] = \\\n",
    "    result_summary_df.shared_diagnoses / result_summary_df.covid_cases\n",
    "result_summary_df.head(daily_plot_days)"
   ]
  },
  {
   "cell_type": "code",
   "execution_count": 36,
   "metadata": {
    "collapsed": false,
    "execution": {
     "iopub.execute_input": "2020-09-27T12:24:47.846511Z",
     "iopub.status.busy": "2020-09-27T12:24:47.845911Z",
     "iopub.status.idle": "2020-09-27T12:24:47.848099Z",
     "shell.execute_reply": "2020-09-27T12:24:47.848630Z"
    },
    "papermill": {
     "duration": 0.070701,
     "end_time": "2020-09-27T12:24:47.848788",
     "exception": false,
     "start_time": "2020-09-27T12:24:47.778087",
     "status": "completed"
    },
    "pycharm": {
     "name": "#%%\n"
    },
    "tags": []
   },
   "outputs": [
    {
     "data": {
      "text/html": [
       "<div>\n",
       "<style scoped>\n",
       "    .dataframe tbody tr th:only-of-type {\n",
       "        vertical-align: middle;\n",
       "    }\n",
       "\n",
       "    .dataframe tbody tr th {\n",
       "        vertical-align: top;\n",
       "    }\n",
       "\n",
       "    .dataframe thead th {\n",
       "        text-align: right;\n",
       "    }\n",
       "</style>\n",
       "<table border=\"1\" class=\"dataframe\">\n",
       "  <thead>\n",
       "    <tr style=\"text-align: right;\">\n",
       "      <th></th>\n",
       "      <th>covid_cases</th>\n",
       "      <th>shared_teks_by_generation_date</th>\n",
       "      <th>shared_teks_by_upload_date</th>\n",
       "      <th>shared_diagnoses</th>\n",
       "      <th>teks_per_shared_diagnosis</th>\n",
       "      <th>shared_diagnoses_per_covid_case</th>\n",
       "    </tr>\n",
       "    <tr>\n",
       "      <th>sample_date</th>\n",
       "      <th></th>\n",
       "      <th></th>\n",
       "      <th></th>\n",
       "      <th></th>\n",
       "      <th></th>\n",
       "      <th></th>\n",
       "    </tr>\n",
       "  </thead>\n",
       "  <tbody>\n",
       "    <tr>\n",
       "      <th>2020-09-27</th>\n",
       "      <td>77702</td>\n",
       "      <td>1328</td>\n",
       "      <td>1898</td>\n",
       "      <td>531</td>\n",
       "      <td>3.574388</td>\n",
       "      <td>0.006834</td>\n",
       "    </tr>\n",
       "    <tr>\n",
       "      <th>2020-09-26</th>\n",
       "      <td>77313</td>\n",
       "      <td>1500</td>\n",
       "      <td>1764</td>\n",
       "      <td>500</td>\n",
       "      <td>3.528000</td>\n",
       "      <td>0.006467</td>\n",
       "    </tr>\n",
       "    <tr>\n",
       "      <th>2020-09-25</th>\n",
       "      <td>76924</td>\n",
       "      <td>1548</td>\n",
       "      <td>1406</td>\n",
       "      <td>429</td>\n",
       "      <td>3.277389</td>\n",
       "      <td>0.005577</td>\n",
       "    </tr>\n",
       "    <tr>\n",
       "      <th>2020-09-24</th>\n",
       "      <td>76535</td>\n",
       "      <td>1551</td>\n",
       "      <td>1238</td>\n",
       "      <td>395</td>\n",
       "      <td>3.134177</td>\n",
       "      <td>0.005161</td>\n",
       "    </tr>\n",
       "    <tr>\n",
       "      <th>2020-09-23</th>\n",
       "      <td>75527</td>\n",
       "      <td>1489</td>\n",
       "      <td>1012</td>\n",
       "      <td>335</td>\n",
       "      <td>3.020896</td>\n",
       "      <td>0.004435</td>\n",
       "    </tr>\n",
       "  </tbody>\n",
       "</table>\n",
       "</div>"
      ],
      "text/plain": [
       "             covid_cases  shared_teks_by_generation_date  \\\n",
       "sample_date                                                \n",
       "2020-09-27         77702                            1328   \n",
       "2020-09-26         77313                            1500   \n",
       "2020-09-25         76924                            1548   \n",
       "2020-09-24         76535                            1551   \n",
       "2020-09-23         75527                            1489   \n",
       "\n",
       "             shared_teks_by_upload_date  shared_diagnoses  \\\n",
       "sample_date                                                 \n",
       "2020-09-27                         1898               531   \n",
       "2020-09-26                         1764               500   \n",
       "2020-09-25                         1406               429   \n",
       "2020-09-24                         1238               395   \n",
       "2020-09-23                         1012               335   \n",
       "\n",
       "             teks_per_shared_diagnosis  shared_diagnoses_per_covid_case  \n",
       "sample_date                                                              \n",
       "2020-09-27                    3.574388                         0.006834  \n",
       "2020-09-26                    3.528000                         0.006467  \n",
       "2020-09-25                    3.277389                         0.005577  \n",
       "2020-09-24                    3.134177                         0.005161  \n",
       "2020-09-23                    3.020896                         0.004435  "
      ]
     },
     "execution_count": 36,
     "metadata": {},
     "output_type": "execute_result"
    }
   ],
   "source": [
    "weekly_result_summary_df = result_summary_df \\\n",
    "    .sort_index(ascending=True).fillna(0).rolling(7).agg({\n",
    "    \"covid_cases\": \"sum\",\n",
    "    \"shared_teks_by_generation_date\": \"sum\",\n",
    "    \"shared_teks_by_upload_date\": \"sum\",\n",
    "    \"shared_diagnoses\": \"sum\"\n",
    "}).sort_index(ascending=False)\n",
    "weekly_result_summary_df = weekly_result_summary_df.fillna(0).astype(int)\n",
    "weekly_result_summary_df[\"teks_per_shared_diagnosis\"] = \\\n",
    "    weekly_result_summary_df.shared_teks_by_upload_date / weekly_result_summary_df.shared_diagnoses\n",
    "weekly_result_summary_df[\"shared_diagnoses_per_covid_case\"] = \\\n",
    "    weekly_result_summary_df.shared_diagnoses / weekly_result_summary_df.covid_cases\n",
    "weekly_result_summary_df.head()"
   ]
  },
  {
   "cell_type": "code",
   "execution_count": 37,
   "metadata": {
    "collapsed": false,
    "execution": {
     "iopub.execute_input": "2020-09-27T12:24:47.954815Z",
     "iopub.status.busy": "2020-09-27T12:24:47.954222Z",
     "iopub.status.idle": "2020-09-27T12:24:47.957102Z",
     "shell.execute_reply": "2020-09-27T12:24:47.956637Z"
    },
    "papermill": {
     "duration": 0.058196,
     "end_time": "2020-09-27T12:24:47.957224",
     "exception": false,
     "start_time": "2020-09-27T12:24:47.899028",
     "status": "completed"
    },
    "pycharm": {
     "name": "#%%\n"
    },
    "tags": []
   },
   "outputs": [
    {
     "data": {
      "text/plain": [
       "{'covid_cases': 77702,\n",
       " 'shared_teks_by_generation_date': 1328,\n",
       " 'shared_teks_by_upload_date': 1898,\n",
       " 'shared_diagnoses': 531,\n",
       " 'teks_per_shared_diagnosis': 3.574387947269303,\n",
       " 'shared_diagnoses_per_covid_case': 0.006833800931764948}"
      ]
     },
     "execution_count": 37,
     "metadata": {},
     "output_type": "execute_result"
    }
   ],
   "source": [
    "last_7_days_summary = weekly_result_summary_df.to_dict(orient=\"records\")[0]\n",
    "last_7_days_summary"
   ]
  },
  {
   "cell_type": "markdown",
   "metadata": {
    "execution": {
     "iopub.execute_input": "2020-08-30T22:30:17.313260Z",
     "iopub.status.busy": "2020-08-30T22:30:17.312584Z",
     "iopub.status.idle": "2020-08-30T22:30:17.317571Z",
     "shell.execute_reply": "2020-08-30T22:30:17.316929Z"
    },
    "papermill": {
     "duration": 0.05608,
     "end_time": "2020-09-27T12:24:48.061467",
     "exception": false,
     "start_time": "2020-09-27T12:24:48.005387",
     "status": "completed"
    },
    "pycharm": {
     "name": "#%% md\n"
    },
    "tags": []
   },
   "source": [
    "## Report Results"
   ]
  },
  {
   "cell_type": "code",
   "execution_count": 38,
   "metadata": {
    "collapsed": false,
    "execution": {
     "iopub.execute_input": "2020-09-27T12:24:48.164597Z",
     "iopub.status.busy": "2020-09-27T12:24:48.163979Z",
     "iopub.status.idle": "2020-09-27T12:24:48.166288Z",
     "shell.execute_reply": "2020-09-27T12:24:48.165740Z"
    },
    "papermill": {
     "duration": 0.055576,
     "end_time": "2020-09-27T12:24:48.166413",
     "exception": false,
     "start_time": "2020-09-27T12:24:48.110837",
     "status": "completed"
    },
    "pycharm": {
     "name": "#%%\n"
    },
    "tags": []
   },
   "outputs": [],
   "source": [
    "display_column_name_mapping = {\n",
    "    \"sample_date\": \"Sample\\u00A0Date\\u00A0(UTC)\",\n",
    "    \"datetime_utc\": \"Timestamp (UTC)\",\n",
    "    \"covid_cases\": \"COVID-19 Cases (7-day Rolling Average)\",\n",
    "    \"shared_teks_by_generation_date\": \"Shared TEKs by Generation Date\",\n",
    "    \"shared_teks_by_upload_date\": \"Shared TEKs by Upload Date\",\n",
    "    \"shared_diagnoses\": \"Shared Diagnoses (Estimation)\",\n",
    "    \"teks_per_shared_diagnosis\": \"TEKs Uploaded per Shared Diagnosis\",\n",
    "    \"shared_diagnoses_per_covid_case\": \"Usage Ratio (Fraction of Cases Which Shared Diagnosis)\",\n",
    "}"
   ]
  },
  {
   "cell_type": "markdown",
   "metadata": {
    "papermill": {
     "duration": 0.048161,
     "end_time": "2020-09-27T12:24:48.263837",
     "exception": false,
     "start_time": "2020-09-27T12:24:48.215676",
     "status": "completed"
    },
    "tags": []
   },
   "source": [
    "### Daily Summary Table"
   ]
  },
  {
   "cell_type": "code",
   "execution_count": 39,
   "metadata": {
    "execution": {
     "iopub.execute_input": "2020-09-27T12:24:48.381421Z",
     "iopub.status.busy": "2020-09-27T12:24:48.380721Z",
     "iopub.status.idle": "2020-09-27T12:24:48.384455Z",
     "shell.execute_reply": "2020-09-27T12:24:48.384007Z"
    },
    "papermill": {
     "duration": 0.070831,
     "end_time": "2020-09-27T12:24:48.384712",
     "exception": false,
     "start_time": "2020-09-27T12:24:48.313881",
     "status": "completed"
    },
    "tags": []
   },
   "outputs": [
    {
     "data": {
      "text/html": [
       "<div>\n",
       "<style scoped>\n",
       "    .dataframe tbody tr th:only-of-type {\n",
       "        vertical-align: middle;\n",
       "    }\n",
       "\n",
       "    .dataframe tbody tr th {\n",
       "        vertical-align: top;\n",
       "    }\n",
       "\n",
       "    .dataframe thead th {\n",
       "        text-align: right;\n",
       "    }\n",
       "</style>\n",
       "<table border=\"1\" class=\"dataframe\">\n",
       "  <thead>\n",
       "    <tr style=\"text-align: right;\">\n",
       "      <th></th>\n",
       "      <th>COVID-19 Cases (7-day Rolling Average)</th>\n",
       "      <th>Shared TEKs by Generation Date</th>\n",
       "      <th>Shared TEKs by Upload Date</th>\n",
       "      <th>Shared Diagnoses (Estimation)</th>\n",
       "      <th>TEKs Uploaded per Shared Diagnosis</th>\n",
       "      <th>Usage Ratio (Fraction of Cases Which Shared Diagnosis)</th>\n",
       "    </tr>\n",
       "    <tr>\n",
       "      <th>Sample Date (UTC)</th>\n",
       "      <th></th>\n",
       "      <th></th>\n",
       "      <th></th>\n",
       "      <th></th>\n",
       "      <th></th>\n",
       "      <th></th>\n",
       "    </tr>\n",
       "  </thead>\n",
       "  <tbody>\n",
       "    <tr>\n",
       "      <th>2020-09-27</th>\n",
       "      <td>10920</td>\n",
       "      <td>46</td>\n",
       "      <td>250</td>\n",
       "      <td>76</td>\n",
       "      <td>3.289474</td>\n",
       "      <td>0.006960</td>\n",
       "    </tr>\n",
       "    <tr>\n",
       "      <th>2020-09-26</th>\n",
       "      <td>10920</td>\n",
       "      <td>155</td>\n",
       "      <td>448</td>\n",
       "      <td>110</td>\n",
       "      <td>4.072727</td>\n",
       "      <td>0.010073</td>\n",
       "    </tr>\n",
       "    <tr>\n",
       "      <th>2020-09-25</th>\n",
       "      <td>10920</td>\n",
       "      <td>162</td>\n",
       "      <td>306</td>\n",
       "      <td>86</td>\n",
       "      <td>3.558140</td>\n",
       "      <td>0.007875</td>\n",
       "    </tr>\n",
       "    <tr>\n",
       "      <th>2020-09-24</th>\n",
       "      <td>11223</td>\n",
       "      <td>201</td>\n",
       "      <td>289</td>\n",
       "      <td>89</td>\n",
       "      <td>3.247191</td>\n",
       "      <td>0.007930</td>\n",
       "    </tr>\n",
       "    <tr>\n",
       "      <th>2020-09-23</th>\n",
       "      <td>11314</td>\n",
       "      <td>241</td>\n",
       "      <td>267</td>\n",
       "      <td>70</td>\n",
       "      <td>3.814286</td>\n",
       "      <td>0.006187</td>\n",
       "    </tr>\n",
       "    <tr>\n",
       "      <th>2020-09-22</th>\n",
       "      <td>11300</td>\n",
       "      <td>255</td>\n",
       "      <td>148</td>\n",
       "      <td>55</td>\n",
       "      <td>2.690909</td>\n",
       "      <td>0.004867</td>\n",
       "    </tr>\n",
       "    <tr>\n",
       "      <th>2020-09-21</th>\n",
       "      <td>11105</td>\n",
       "      <td>268</td>\n",
       "      <td>190</td>\n",
       "      <td>45</td>\n",
       "      <td>4.222222</td>\n",
       "      <td>0.004052</td>\n",
       "    </tr>\n",
       "    <tr>\n",
       "      <th>2020-09-20</th>\n",
       "      <td>10531</td>\n",
       "      <td>218</td>\n",
       "      <td>116</td>\n",
       "      <td>45</td>\n",
       "      <td>2.577778</td>\n",
       "      <td>0.004273</td>\n",
       "    </tr>\n",
       "    <tr>\n",
       "      <th>2020-09-19</th>\n",
       "      <td>10531</td>\n",
       "      <td>203</td>\n",
       "      <td>90</td>\n",
       "      <td>39</td>\n",
       "      <td>2.307692</td>\n",
       "      <td>0.003703</td>\n",
       "    </tr>\n",
       "    <tr>\n",
       "      <th>2020-09-18</th>\n",
       "      <td>10531</td>\n",
       "      <td>165</td>\n",
       "      <td>138</td>\n",
       "      <td>52</td>\n",
       "      <td>2.653846</td>\n",
       "      <td>0.004938</td>\n",
       "    </tr>\n",
       "    <tr>\n",
       "      <th>2020-09-17</th>\n",
       "      <td>10215</td>\n",
       "      <td>139</td>\n",
       "      <td>63</td>\n",
       "      <td>29</td>\n",
       "      <td>2.172414</td>\n",
       "      <td>0.002839</td>\n",
       "    </tr>\n",
       "    <tr>\n",
       "      <th>2020-09-16</th>\n",
       "      <td>10140</td>\n",
       "      <td>119</td>\n",
       "      <td>62</td>\n",
       "      <td>23</td>\n",
       "      <td>2.695652</td>\n",
       "      <td>0.002268</td>\n",
       "    </tr>\n",
       "    <tr>\n",
       "      <th>2020-09-15</th>\n",
       "      <td>9808</td>\n",
       "      <td>82</td>\n",
       "      <td>58</td>\n",
       "      <td>23</td>\n",
       "      <td>2.521739</td>\n",
       "      <td>0.002345</td>\n",
       "    </tr>\n",
       "    <tr>\n",
       "      <th>2020-09-14</th>\n",
       "      <td>9740</td>\n",
       "      <td>73</td>\n",
       "      <td>61</td>\n",
       "      <td>28</td>\n",
       "      <td>2.178571</td>\n",
       "      <td>0.002875</td>\n",
       "    </tr>\n",
       "    <tr>\n",
       "      <th>2020-09-13</th>\n",
       "      <td>9620</td>\n",
       "      <td>75</td>\n",
       "      <td>92</td>\n",
       "      <td>32</td>\n",
       "      <td>2.875000</td>\n",
       "      <td>0.003326</td>\n",
       "    </tr>\n",
       "    <tr>\n",
       "      <th>2020-09-12</th>\n",
       "      <td>9620</td>\n",
       "      <td>67</td>\n",
       "      <td>92</td>\n",
       "      <td>33</td>\n",
       "      <td>2.787879</td>\n",
       "      <td>0.003430</td>\n",
       "    </tr>\n",
       "    <tr>\n",
       "      <th>2020-09-11</th>\n",
       "      <td>9620</td>\n",
       "      <td>75</td>\n",
       "      <td>46</td>\n",
       "      <td>19</td>\n",
       "      <td>2.421053</td>\n",
       "      <td>0.001975</td>\n",
       "    </tr>\n",
       "    <tr>\n",
       "      <th>2020-09-10</th>\n",
       "      <td>9376</td>\n",
       "      <td>68</td>\n",
       "      <td>45</td>\n",
       "      <td>15</td>\n",
       "      <td>3.000000</td>\n",
       "      <td>0.001600</td>\n",
       "    </tr>\n",
       "    <tr>\n",
       "      <th>2020-09-09</th>\n",
       "      <td>9118</td>\n",
       "      <td>60</td>\n",
       "      <td>67</td>\n",
       "      <td>21</td>\n",
       "      <td>3.190476</td>\n",
       "      <td>0.002303</td>\n",
       "    </tr>\n",
       "    <tr>\n",
       "      <th>2020-09-08</th>\n",
       "      <td>9077</td>\n",
       "      <td>61</td>\n",
       "      <td>44</td>\n",
       "      <td>18</td>\n",
       "      <td>2.444444</td>\n",
       "      <td>0.001983</td>\n",
       "    </tr>\n",
       "    <tr>\n",
       "      <th>2020-09-07</th>\n",
       "      <td>8956</td>\n",
       "      <td>58</td>\n",
       "      <td>52</td>\n",
       "      <td>22</td>\n",
       "      <td>2.363636</td>\n",
       "      <td>0.002456</td>\n",
       "    </tr>\n",
       "  </tbody>\n",
       "</table>\n",
       "</div>"
      ],
      "text/plain": [
       "                   COVID-19 Cases (7-day Rolling Average)  \\\n",
       "Sample Date (UTC)                                           \n",
       "2020-09-27                                          10920   \n",
       "2020-09-26                                          10920   \n",
       "2020-09-25                                          10920   \n",
       "2020-09-24                                          11223   \n",
       "2020-09-23                                          11314   \n",
       "2020-09-22                                          11300   \n",
       "2020-09-21                                          11105   \n",
       "2020-09-20                                          10531   \n",
       "2020-09-19                                          10531   \n",
       "2020-09-18                                          10531   \n",
       "2020-09-17                                          10215   \n",
       "2020-09-16                                          10140   \n",
       "2020-09-15                                           9808   \n",
       "2020-09-14                                           9740   \n",
       "2020-09-13                                           9620   \n",
       "2020-09-12                                           9620   \n",
       "2020-09-11                                           9620   \n",
       "2020-09-10                                           9376   \n",
       "2020-09-09                                           9118   \n",
       "2020-09-08                                           9077   \n",
       "2020-09-07                                           8956   \n",
       "\n",
       "                   Shared TEKs by Generation Date  Shared TEKs by Upload Date  \\\n",
       "Sample Date (UTC)                                                               \n",
       "2020-09-27                                     46                         250   \n",
       "2020-09-26                                    155                         448   \n",
       "2020-09-25                                    162                         306   \n",
       "2020-09-24                                    201                         289   \n",
       "2020-09-23                                    241                         267   \n",
       "2020-09-22                                    255                         148   \n",
       "2020-09-21                                    268                         190   \n",
       "2020-09-20                                    218                         116   \n",
       "2020-09-19                                    203                          90   \n",
       "2020-09-18                                    165                         138   \n",
       "2020-09-17                                    139                          63   \n",
       "2020-09-16                                    119                          62   \n",
       "2020-09-15                                     82                          58   \n",
       "2020-09-14                                     73                          61   \n",
       "2020-09-13                                     75                          92   \n",
       "2020-09-12                                     67                          92   \n",
       "2020-09-11                                     75                          46   \n",
       "2020-09-10                                     68                          45   \n",
       "2020-09-09                                     60                          67   \n",
       "2020-09-08                                     61                          44   \n",
       "2020-09-07                                     58                          52   \n",
       "\n",
       "                   Shared Diagnoses (Estimation)  \\\n",
       "Sample Date (UTC)                                  \n",
       "2020-09-27                                    76   \n",
       "2020-09-26                                   110   \n",
       "2020-09-25                                    86   \n",
       "2020-09-24                                    89   \n",
       "2020-09-23                                    70   \n",
       "2020-09-22                                    55   \n",
       "2020-09-21                                    45   \n",
       "2020-09-20                                    45   \n",
       "2020-09-19                                    39   \n",
       "2020-09-18                                    52   \n",
       "2020-09-17                                    29   \n",
       "2020-09-16                                    23   \n",
       "2020-09-15                                    23   \n",
       "2020-09-14                                    28   \n",
       "2020-09-13                                    32   \n",
       "2020-09-12                                    33   \n",
       "2020-09-11                                    19   \n",
       "2020-09-10                                    15   \n",
       "2020-09-09                                    21   \n",
       "2020-09-08                                    18   \n",
       "2020-09-07                                    22   \n",
       "\n",
       "                   TEKs Uploaded per Shared Diagnosis  \\\n",
       "Sample Date (UTC)                                       \n",
       "2020-09-27                                   3.289474   \n",
       "2020-09-26                                   4.072727   \n",
       "2020-09-25                                   3.558140   \n",
       "2020-09-24                                   3.247191   \n",
       "2020-09-23                                   3.814286   \n",
       "2020-09-22                                   2.690909   \n",
       "2020-09-21                                   4.222222   \n",
       "2020-09-20                                   2.577778   \n",
       "2020-09-19                                   2.307692   \n",
       "2020-09-18                                   2.653846   \n",
       "2020-09-17                                   2.172414   \n",
       "2020-09-16                                   2.695652   \n",
       "2020-09-15                                   2.521739   \n",
       "2020-09-14                                   2.178571   \n",
       "2020-09-13                                   2.875000   \n",
       "2020-09-12                                   2.787879   \n",
       "2020-09-11                                   2.421053   \n",
       "2020-09-10                                   3.000000   \n",
       "2020-09-09                                   3.190476   \n",
       "2020-09-08                                   2.444444   \n",
       "2020-09-07                                   2.363636   \n",
       "\n",
       "                   Usage Ratio (Fraction of Cases Which Shared Diagnosis)  \n",
       "Sample Date (UTC)                                                          \n",
       "2020-09-27                                                  0.006960       \n",
       "2020-09-26                                                  0.010073       \n",
       "2020-09-25                                                  0.007875       \n",
       "2020-09-24                                                  0.007930       \n",
       "2020-09-23                                                  0.006187       \n",
       "2020-09-22                                                  0.004867       \n",
       "2020-09-21                                                  0.004052       \n",
       "2020-09-20                                                  0.004273       \n",
       "2020-09-19                                                  0.003703       \n",
       "2020-09-18                                                  0.004938       \n",
       "2020-09-17                                                  0.002839       \n",
       "2020-09-16                                                  0.002268       \n",
       "2020-09-15                                                  0.002345       \n",
       "2020-09-14                                                  0.002875       \n",
       "2020-09-13                                                  0.003326       \n",
       "2020-09-12                                                  0.003430       \n",
       "2020-09-11                                                  0.001975       \n",
       "2020-09-10                                                  0.001600       \n",
       "2020-09-09                                                  0.002303       \n",
       "2020-09-08                                                  0.001983       \n",
       "2020-09-07                                                  0.002456       "
      ]
     },
     "execution_count": 39,
     "metadata": {},
     "output_type": "execute_result"
    }
   ],
   "source": [
    "result_summary_df_ = result_summary_df.copy()\n",
    "result_summary_df = result_summary_df[[\n",
    "    \"covid_cases\",\n",
    "    \"shared_teks_by_generation_date\",\n",
    "    \"shared_teks_by_upload_date\",\n",
    "    \"shared_diagnoses\",\n",
    "    \"teks_per_shared_diagnosis\",\n",
    "    \"shared_diagnoses_per_covid_case\"]]\n",
    "result_summary_with_display_names_df = result_summary_df \\\n",
    "    .rename_axis(index=display_column_name_mapping) \\\n",
    "    .rename(columns=display_column_name_mapping)\n",
    "result_summary_with_display_names_df"
   ]
  },
  {
   "cell_type": "markdown",
   "metadata": {
    "papermill": {
     "duration": 0.048851,
     "end_time": "2020-09-27T12:24:48.486878",
     "exception": false,
     "start_time": "2020-09-27T12:24:48.438027",
     "status": "completed"
    },
    "tags": []
   },
   "source": [
    "### Daily Summary Plots"
   ]
  },
  {
   "cell_type": "code",
   "execution_count": 40,
   "metadata": {
    "execution": {
     "iopub.execute_input": "2020-09-27T12:24:48.600345Z",
     "iopub.status.busy": "2020-09-27T12:24:48.599801Z",
     "iopub.status.idle": "2020-09-27T12:24:49.904618Z",
     "shell.execute_reply": "2020-09-27T12:24:49.905062Z"
    },
    "papermill": {
     "duration": 1.369937,
     "end_time": "2020-09-27T12:24:49.905223",
     "exception": false,
     "start_time": "2020-09-27T12:24:48.535286",
     "status": "completed"
    },
    "scrolled": false,
    "tags": []
   },
   "outputs": [
    {
     "data": {
      "image/png": "[encoded data removed]",
      "text/plain": [
       "<Figure size 1080x1584 with 6 Axes>"
      ]
     },
     "metadata": {},
     "output_type": "display_data"
    }
   ],
   "source": [
    "result_plot_summary_df = result_summary_df.head(daily_plot_days)[[\n",
    "    \"covid_cases\",\n",
    "    \"shared_teks_by_generation_date\",\n",
    "    \"shared_teks_by_upload_date\",\n",
    "    \"shared_diagnoses\",\n",
    "    \"teks_per_shared_diagnosis\",\n",
    "    \"shared_diagnoses_per_covid_case\"]] \\\n",
    "    .rename_axis(index=display_column_name_mapping) \\\n",
    "    .rename(columns=display_column_name_mapping)\n",
    "summary_ax_list = result_plot_summary_df.sort_index(ascending=True).plot.bar(\n",
    "    title=f\"Daily Summary\",\n",
    "    rot=45, subplots=True, figsize=(15, 22), legend=False)\n",
    "ax_ = summary_ax_list[-1]\n",
    "ax_.get_figure().tight_layout()\n",
    "ax_.get_figure().subplots_adjust(top=0.95)\n",
    "ax_.yaxis.set_major_formatter(matplotlib.ticker.PercentFormatter(1.0))\n",
    "_ = ax_.set_xticklabels(sorted(result_plot_summary_df.index.strftime(\"%Y-%m-%d\").tolist()))"
   ]
  },
  {
   "cell_type": "markdown",
   "metadata": {
    "papermill": {
     "duration": 0.051783,
     "end_time": "2020-09-27T12:24:50.010332",
     "exception": false,
     "start_time": "2020-09-27T12:24:49.958549",
     "status": "completed"
    },
    "tags": []
   },
   "source": [
    "### Hourly Summary Plots "
   ]
  },
  {
   "cell_type": "code",
   "execution_count": 41,
   "metadata": {
    "execution": {
     "iopub.execute_input": "2020-09-27T12:24:50.128186Z",
     "iopub.status.busy": "2020-09-27T12:24:50.127617Z",
     "iopub.status.idle": "2020-09-27T12:24:50.625483Z",
     "shell.execute_reply": "2020-09-27T12:24:50.625017Z"
    },
    "papermill": {
     "duration": 0.563825,
     "end_time": "2020-09-27T12:24:50.625620",
     "exception": false,
     "start_time": "2020-09-27T12:24:50.061795",
     "status": "completed"
    },
    "pycharm": {
     "name": "#%%\n"
    },
    "tags": []
   },
   "outputs": [
    {
     "data": {
      "image/png": "[encoded data removed]",
      "text/plain": [
       "<Figure size 1080x432 with 2 Axes>"
      ]
     },
     "metadata": {},
     "output_type": "display_data"
    }
   ],
   "source": [
    "hourly_summary_ax_list = hourly_summary_df \\\n",
    "    .rename_axis(index=display_column_name_mapping) \\\n",
    "    .rename(columns=display_column_name_mapping) \\\n",
    "    .plot.bar(\n",
    "        title=f\"Last 24h Summary\",\n",
    "        rot=45, subplots=True, legend=False)\n",
    "ax_ = hourly_summary_ax_list[-1]\n",
    "ax_.get_figure().tight_layout()\n",
    "ax_.get_figure().subplots_adjust(top=0.9)\n",
    "_ = ax_.set_xticklabels(sorted(hourly_summary_df.index.strftime(\"%Y-%m-%d@%H\").tolist()))"
   ]
  },
  {
   "cell_type": "markdown",
   "metadata": {
    "papermill": {
     "duration": 0.057228,
     "end_time": "2020-09-27T12:24:50.740220",
     "exception": false,
     "start_time": "2020-09-27T12:24:50.682992",
     "status": "completed"
    },
    "tags": []
   },
   "source": [
    "### Publish Results"
   ]
  },
  {
   "cell_type": "code",
   "execution_count": 42,
   "metadata": {
    "execution": {
     "iopub.execute_input": "2020-09-27T12:24:50.849489Z",
     "iopub.status.busy": "2020-09-27T12:24:50.848962Z",
     "iopub.status.idle": "2020-09-27T12:24:50.850537Z",
     "shell.execute_reply": "2020-09-27T12:24:50.851013Z"
    },
    "papermill": {
     "duration": 0.058521,
     "end_time": "2020-09-27T12:24:50.851167",
     "exception": false,
     "start_time": "2020-09-27T12:24:50.792646",
     "status": "completed"
    },
    "pycharm": {
     "name": "#%%\n"
    },
    "tags": []
   },
   "outputs": [],
   "source": [
    "def get_temporary_image_path() -> str:\n",
    "    return os.path.join(tempfile.gettempdir(), str(uuid.uuid4()) + \".png\")\n",
    "\n",
    "def save_temporary_plot_image(ax):\n",
    "    if isinstance(ax, np.ndarray):\n",
    "        ax = ax[0]\n",
    "    media_path = get_temporary_image_path()\n",
    "    ax.get_figure().savefig(media_path)\n",
    "    return media_path\n",
    "\n",
    "def save_temporary_dataframe_image(df):\n",
    "    import dataframe_image as dfi\n",
    "    media_path = get_temporary_image_path()\n",
    "    dfi.export(df, media_path)\n",
    "    return media_path"
   ]
  },
  {
   "cell_type": "code",
   "execution_count": 43,
   "metadata": {
    "collapsed": false,
    "execution": {
     "iopub.execute_input": "2020-09-27T12:24:50.972199Z",
     "iopub.status.busy": "2020-09-27T12:24:50.971644Z",
     "iopub.status.idle": "2020-09-27T12:24:50.973343Z",
     "shell.execute_reply": "2020-09-27T12:24:50.973752Z"
    },
    "papermill": {
     "duration": 0.067854,
     "end_time": "2020-09-27T12:24:50.973897",
     "exception": false,
     "start_time": "2020-09-27T12:24:50.906043",
     "status": "completed"
    },
    "pycharm": {
     "name": "#%%\n"
    },
    "tags": []
   },
   "outputs": [],
   "source": [
    "daily_summary_table_html = result_summary_with_display_names_df \\\n",
    "    .head(daily_plot_days) \\\n",
    "    .rename_axis(index=display_column_name_mapping) \\\n",
    "    .rename(columns=display_column_name_mapping) \\\n",
    "    .to_html(\n",
    "        formatters={\n",
    "            display_column_name_mapping[\"teks_per_shared_diagnosis\"]: lambda x: f\"{x:.2f}\",\n",
    "            display_column_name_mapping[\"shared_diagnoses_per_covid_case\"]: lambda x: f\"{x:.2%}\",\n",
    "        })\n",
    "\n",
    "extraction_date_result_summary_df = \\\n",
    "    result_summary_df[result_summary_df.index == extraction_date]\n",
    "extraction_date_result_hourly_summary_df = \\\n",
    "    hourly_summary_df[hourly_summary_df.extraction_date_with_hour == extraction_date_with_hour]\n",
    "\n",
    "covid_cases = \\\n",
    "    extraction_date_result_summary_df.covid_cases.sum()\n",
    "shared_teks_by_generation_date = \\\n",
    "    extraction_date_result_summary_df.shared_teks_by_generation_date.sum()\n",
    "shared_teks_by_upload_date = \\\n",
    "    extraction_date_result_summary_df.shared_teks_by_upload_date.sum()\n",
    "shared_diagnoses = \\\n",
    "    extraction_date_result_summary_df.shared_diagnoses.sum()\n",
    "teks_per_shared_diagnosis = \\\n",
    "    extraction_date_result_summary_df.teks_per_shared_diagnosis.sum()\n",
    "shared_diagnoses_per_covid_case = \\\n",
    "    extraction_date_result_summary_df.shared_diagnoses_per_covid_case.sum()\n",
    "\n",
    "shared_teks_by_upload_date_last_hour = \\\n",
    "    extraction_date_result_hourly_summary_df.shared_teks_by_upload_date.sum().astype(int)\n",
    "shared_diagnoses_last_hour = \\\n",
    "    extraction_date_result_hourly_summary_df.shared_diagnoses.sum().astype(int)"
   ]
  },
  {
   "cell_type": "code",
   "execution_count": 44,
   "metadata": {
    "collapsed": false,
    "execution": {
     "iopub.execute_input": "2020-09-27T12:24:51.094896Z",
     "iopub.status.busy": "2020-09-27T12:24:51.092999Z",
     "iopub.status.idle": "2020-09-27T12:24:55.507416Z",
     "shell.execute_reply": "2020-09-27T12:24:55.506544Z"
    },
    "papermill": {
     "duration": 4.480103,
     "end_time": "2020-09-27T12:24:55.507646",
     "exception": false,
     "start_time": "2020-09-27T12:24:51.027543",
     "status": "completed"
    },
    "pycharm": {
     "name": "#%%\n"
    },
    "tags": []
   },
   "outputs": [],
   "source": [
    "summary_plots_image_path = save_temporary_plot_image(\n",
    "    ax=summary_ax_list)\n",
    "summary_table_image_path = save_temporary_dataframe_image(\n",
    "    df=result_summary_with_display_names_df)\n",
    "hourly_summary_plots_image_path = save_temporary_plot_image(\n",
    "    ax=hourly_summary_ax_list)\n",
    "multi_region_summary_table_image_path = save_temporary_dataframe_image(\n",
    "    df=multi_region_summary_df)"
   ]
  },
  {
   "cell_type": "markdown",
   "metadata": {
    "papermill": {
     "duration": 0.052178,
     "end_time": "2020-09-27T12:24:55.612512",
     "exception": false,
     "start_time": "2020-09-27T12:24:55.560334",
     "status": "completed"
    },
    "tags": []
   },
   "source": [
    "### Save Results"
   ]
  },
  {
   "cell_type": "code",
   "execution_count": 45,
   "metadata": {
    "execution": {
     "iopub.execute_input": "2020-09-27T12:24:55.727123Z",
     "iopub.status.busy": "2020-09-27T12:24:55.726457Z",
     "iopub.status.idle": "2020-09-27T12:24:55.740419Z",
     "shell.execute_reply": "2020-09-27T12:24:55.739861Z"
    },
    "papermill": {
     "duration": 0.075483,
     "end_time": "2020-09-27T12:24:55.740544",
     "exception": false,
     "start_time": "2020-09-27T12:24:55.665061",
     "status": "completed"
    },
    "pycharm": {
     "name": "#%%\n"
    },
    "tags": []
   },
   "outputs": [],
   "source": [
    "report_resources_path_prefix = \"Data/Resources/Current/RadarCOVID-Report-\"\n",
    "result_summary_df.to_csv(report_resources_path_prefix + \"Summary-Table.csv\")\n",
    "result_summary_df.to_html(report_resources_path_prefix + \"Summary-Table.html\")\n",
    "hourly_summary_df.to_csv(report_resources_path_prefix + \"Hourly-Summary-Table.csv\")\n",
    "multi_region_summary_df.to_csv(report_resources_path_prefix + \"Multi-Region-Summary-Table.csv\")\n",
    "_ = shutil.copyfile(summary_plots_image_path, report_resources_path_prefix + \"Summary-Plots.png\")\n",
    "_ = shutil.copyfile(summary_table_image_path, report_resources_path_prefix + \"Summary-Table.png\")\n",
    "_ = shutil.copyfile(hourly_summary_plots_image_path, report_resources_path_prefix + \"Hourly-Summary-Plots.png\")\n",
    "_ = shutil.copyfile(multi_region_summary_table_image_path, report_resources_path_prefix + \"Multi-Region-Summary-Table.png\")\n",
    "\n",
    "report_daily_url_pattern = \\\n",
    "    \"https://github.com/pvieito/RadarCOVID-STATS/blob/master/Notebooks/\" \\\n",
    "    \"RadarCOVID-Report/{report_type}/RadarCOVID-Report-{report_date}.ipynb\"\n",
    "report_daily_url = report_daily_url_pattern.format(\n",
    "    report_type=\"Daily\", report_date=extraction_date)\n",
    "report_hourly_url = report_daily_url_pattern.format(\n",
    "    report_type=\"Hourly\", report_date=extraction_date_with_hour)"
   ]
  },
  {
   "cell_type": "markdown",
   "metadata": {
    "collapsed": false,
    "papermill": {
     "duration": 0.053492,
     "end_time": "2020-09-27T12:24:55.847795",
     "exception": false,
     "start_time": "2020-09-27T12:24:55.794303",
     "status": "completed"
    },
    "tags": []
   },
   "source": [
    "### Publish Results as JSON"
   ]
  },
  {
   "cell_type": "code",
   "execution_count": 46,
   "metadata": {
    "collapsed": false,
    "execution": {
     "iopub.execute_input": "2020-09-27T12:24:55.971313Z",
     "iopub.status.busy": "2020-09-27T12:24:55.970252Z",
     "iopub.status.idle": "2020-09-27T12:24:55.972354Z",
     "shell.execute_reply": "2020-09-27T12:24:55.973319Z"
    },
    "papermill": {
     "duration": 0.073568,
     "end_time": "2020-09-27T12:24:55.973583",
     "exception": false,
     "start_time": "2020-09-27T12:24:55.900015",
     "status": "completed"
    },
    "pycharm": {
     "name": "#%%\n"
    },
    "tags": []
   },
   "outputs": [],
   "source": [
    "summary_results_api_df = result_summary_df.reset_index()\n",
    "summary_results_api_df[\"sample_date_string\"] = \\\n",
    "    summary_results_api_df[\"sample_date\"].dt.strftime(\"%Y-%m-%d\")\n",
    "\n",
    "summary_results = dict(\n",
    "    extraction_datetime=extraction_datetime,\n",
    "    extraction_date=extraction_date,\n",
    "    extraction_date_with_hour=extraction_date_with_hour,\n",
    "    last_hour=dict(\n",
    "        shared_teks_by_upload_date=shared_teks_by_upload_date_last_hour,\n",
    "        shared_diagnoses=shared_diagnoses_last_hour,\n",
    "    ),\n",
    "    today=dict(\n",
    "        covid_cases=covid_cases,\n",
    "        shared_teks_by_generation_date=shared_teks_by_generation_date,\n",
    "        shared_teks_by_upload_date=shared_teks_by_upload_date,\n",
    "        shared_diagnoses=shared_diagnoses,\n",
    "        teks_per_shared_diagnosis=teks_per_shared_diagnosis,\n",
    "        shared_diagnoses_per_covid_case=shared_diagnoses_per_covid_case,\n",
    "    ),\n",
    "    last_7_days=last_7_days_summary,\n",
    "    daily_results=summary_results_api_df.to_dict(orient=\"records\"))\n",
    "summary_results = \\\n",
    "    json.loads(pd.Series([summary_results]).to_json(orient=\"records\"))[0]\n",
    "\n",
    "with open(report_resources_path_prefix + \"Summary-Results.json\", \"w\") as f:\n",
    "    json.dump(summary_results, f, indent=4)"
   ]
  },
  {
   "cell_type": "markdown",
   "metadata": {
    "collapsed": false,
    "papermill": {
     "duration": 0.052369,
     "end_time": "2020-09-27T12:24:56.077946",
     "exception": false,
     "start_time": "2020-09-27T12:24:56.025577",
     "status": "completed"
    },
    "tags": []
   },
   "source": [
    "### Publish on README"
   ]
  },
  {
   "cell_type": "code",
   "execution_count": 47,
   "metadata": {
    "collapsed": false,
    "execution": {
     "iopub.execute_input": "2020-09-27T12:24:56.194890Z",
     "iopub.status.busy": "2020-09-27T12:24:56.193844Z",
     "iopub.status.idle": "2020-09-27T12:24:56.201149Z",
     "shell.execute_reply": "2020-09-27T12:24:56.197576Z"
    },
    "papermill": {
     "duration": 0.066464,
     "end_time": "2020-09-27T12:24:56.201664",
     "exception": false,
     "start_time": "2020-09-27T12:24:56.135200",
     "status": "completed"
    },
    "pycharm": {
     "name": "#%%\n"
    },
    "tags": []
   },
   "outputs": [],
   "source": [
    "with open(\"Data/Templates/README.md\", \"r\") as f:\n",
    "    readme_contents = f.read()\n",
    "\n",
    "readme_contents = readme_contents.format(\n",
    "    daily_summary_table_html=daily_summary_table_html,\n",
    "    report_url_with_hour=report_hourly_url,\n",
    "    extraction_date_with_hour=extraction_date_with_hour)\n",
    "\n",
    "with open(\"README.md\", \"w\") as f:\n",
    "    f.write(readme_contents)"
   ]
  },
  {
   "cell_type": "markdown",
   "metadata": {
    "collapsed": false,
    "papermill": {
     "duration": 0.053031,
     "end_time": "2020-09-27T12:24:56.306532",
     "exception": false,
     "start_time": "2020-09-27T12:24:56.253501",
     "status": "completed"
    },
    "tags": []
   },
   "source": [
    "### Publish on Twitter"
   ]
  },
  {
   "cell_type": "code",
   "execution_count": 48,
   "metadata": {
    "collapsed": false,
    "execution": {
     "iopub.execute_input": "2020-09-27T12:24:56.426021Z",
     "iopub.status.busy": "2020-09-27T12:24:56.425124Z",
     "iopub.status.idle": "2020-09-27T12:25:03.055692Z",
     "shell.execute_reply": "2020-09-27T12:25:03.055189Z"
    },
    "papermill": {
     "duration": 6.692987,
     "end_time": "2020-09-27T12:25:03.055840",
     "exception": false,
     "start_time": "2020-09-27T12:24:56.362853",
     "status": "completed"
    },
    "pycharm": {
     "name": "#%%\n"
    },
    "tags": []
   },
   "outputs": [],
   "source": [
    "enable_share_to_twitter = os.environ.get(\"RADARCOVID_REPORT__ENABLE_PUBLISH_ON_TWITTER\")\n",
    "github_event_name = os.environ.get(\"GITHUB_EVENT_NAME\")\n",
    "\n",
    "if enable_share_to_twitter and github_event_name == \"schedule\":\n",
    "    import tweepy\n",
    "\n",
    "    twitter_api_auth_keys = os.environ[\"RADARCOVID_REPORT__TWITTER_API_AUTH_KEYS\"]\n",
    "    twitter_api_auth_keys = twitter_api_auth_keys.split(\":\")\n",
    "    auth = tweepy.OAuthHandler(twitter_api_auth_keys[0], twitter_api_auth_keys[1])\n",
    "    auth.set_access_token(twitter_api_auth_keys[2], twitter_api_auth_keys[3])\n",
    "\n",
    "    api = tweepy.API(auth)\n",
    "\n",
    "    summary_plots_media = api.media_upload(summary_plots_image_path)\n",
    "    summary_table_media = api.media_upload(summary_table_image_path)\n",
    "    hourly_summary_plots_media = api.media_upload(hourly_summary_plots_image_path)\n",
    "    media_ids = [\n",
    "        summary_plots_media.media_id,\n",
    "        summary_table_media.media_id,\n",
    "        hourly_summary_plots_media.media_id,\n",
    "    ]\n",
    "\n",
    "    status = textwrap.dedent(f\"\"\"\n",
    "        #RadarCOVID Report – {extraction_date_with_hour}\n",
    "\n",
    "        Today:\n",
    "        - Uploaded TEKs: {shared_teks_by_upload_date:.0f} ({shared_teks_by_upload_date_last_hour:+d} last hour)\n",
    "        - Shared Diagnoses: ≤{shared_diagnoses:.0f} ({shared_diagnoses_last_hour:+d} last hour)\n",
    "        - TEKs per Diagnosis: ≥{teks_per_shared_diagnosis:.2}\n",
    "        - Usage Ratio: ≤{shared_diagnoses_per_covid_case:.2%}\n",
    "\n",
    "        Week:\n",
    "        - Shared Diagnoses: ≤{last_7_days_summary[\"shared_diagnoses\"]:.0f}\n",
    "        - Usage Ratio: ≤{last_7_days_summary[\"shared_diagnoses_per_covid_case\"]:.2%}\n",
    "\n",
    "        More Info: https://github.com/pvieito/RadarCOVID-STATS#documentation\n",
    "        \"\"\")\n",
    "    status = status.encode(encoding=\"utf-8\")\n",
    "    api.update_status(status=status, media_ids=media_ids)"
   ]
  }
 ],
 "metadata": {
  "kernelspec": {
   "display_name": "Python 3",
   "language": "python",
   "name": "python3"
  },
  "language_info": {
   "codemirror_mode": {
    "name": "ipython",
    "version": 3
   },
   "file_extension": ".py",
   "mimetype": "text/x-python",
   "name": "python",
   "nbconvert_exporter": "python",
   "pygments_lexer": "ipython3",
   "version": "3.8.5"
  },
  "papermill": {
   "duration": 29.042578,
   "end_time": "2020-09-27T12:25:03.616899",
   "environment_variables": {},
   "exception": null,
   "input_path": "Notebooks/RadarCOVID-Report/Source/RadarCOVID-Report.ipynb",
   "output_path": "RadarCOVID-Report.ipynb",
   "parameters": {},
   "start_time": "2020-09-27T12:24:34.574321",
   "version": "2.1.3"
  }
 },
 "nbformat": 4,
 "nbformat_minor": 1
}